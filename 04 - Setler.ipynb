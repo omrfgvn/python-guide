{
 "cells": [
  {
   "cell_type": "code",
   "execution_count": 1,
   "id": "38f1bcfd",
   "metadata": {},
   "outputs": [],
   "source": [
    "benimListem = [1,2,3,4,5,6,1,2,3]"
   ]
  },
  {
   "cell_type": "code",
   "execution_count": 2,
   "id": "01f2655d",
   "metadata": {},
   "outputs": [],
   "source": [
    "benimSetListem = set(benimListem)"
   ]
  },
  {
   "cell_type": "code",
   "execution_count": 3,
   "id": "efebf450",
   "metadata": {},
   "outputs": [
    {
     "data": {
      "text/plain": [
       "{1, 2, 3, 4, 5, 6}"
      ]
     },
     "execution_count": 3,
     "metadata": {},
     "output_type": "execute_result"
    }
   ],
   "source": [
    "benimSetListem"
   ]
  },
  {
   "cell_type": "markdown",
   "id": "30420615",
   "metadata": {},
   "source": [
    "set, listedeki elemanları sadece 1 kez alır birden fazla olanları göstermez."
   ]
  },
  {
   "cell_type": "code",
   "execution_count": 4,
   "id": "df7f162a",
   "metadata": {},
   "outputs": [],
   "source": [
    "benimSet = {\"a\",\"b\",\"a\"}"
   ]
  },
  {
   "cell_type": "code",
   "execution_count": 5,
   "id": "07800aec",
   "metadata": {},
   "outputs": [
    {
     "data": {
      "text/plain": [
       "{'a', 'b'}"
      ]
     },
     "execution_count": 5,
     "metadata": {},
     "output_type": "execute_result"
    }
   ],
   "source": [
    "benimSet"
   ]
  },
  {
   "cell_type": "code",
   "execution_count": 6,
   "id": "8ef6b597",
   "metadata": {},
   "outputs": [],
   "source": [
    "bosListe = []"
   ]
  },
  {
   "cell_type": "code",
   "execution_count": 7,
   "id": "bf494f5c",
   "metadata": {},
   "outputs": [
    {
     "data": {
      "text/plain": [
       "[]"
      ]
     },
     "execution_count": 7,
     "metadata": {},
     "output_type": "execute_result"
    }
   ],
   "source": [
    "bosListe"
   ]
  },
  {
   "cell_type": "code",
   "execution_count": 8,
   "id": "970c4f52",
   "metadata": {},
   "outputs": [],
   "source": [
    "bosListe.append(15)"
   ]
  },
  {
   "cell_type": "code",
   "execution_count": 9,
   "id": "e5c61614",
   "metadata": {},
   "outputs": [
    {
     "data": {
      "text/plain": [
       "[15]"
      ]
     },
     "execution_count": 9,
     "metadata": {},
     "output_type": "execute_result"
    }
   ],
   "source": [
    "bosListe"
   ]
  },
  {
   "cell_type": "markdown",
   "id": "8ec5e517",
   "metadata": {},
   "source": [
    "Boş liste oluşturma ve eleman ekleme."
   ]
  },
  {
   "cell_type": "code",
   "execution_count": 10,
   "id": "95679d66",
   "metadata": {},
   "outputs": [],
   "source": [
    "benimBosSetim = set()"
   ]
  },
  {
   "cell_type": "code",
   "execution_count": 11,
   "id": "f1ca5a6a",
   "metadata": {},
   "outputs": [
    {
     "data": {
      "text/plain": [
       "set()"
      ]
     },
     "execution_count": 11,
     "metadata": {},
     "output_type": "execute_result"
    }
   ],
   "source": [
    "benimBosSetim"
   ]
  },
  {
   "cell_type": "code",
   "execution_count": 12,
   "id": "9107eac6",
   "metadata": {},
   "outputs": [],
   "source": [
    "benimBosSetim.add(12)"
   ]
  },
  {
   "cell_type": "code",
   "execution_count": 14,
   "id": "c032a7fd",
   "metadata": {},
   "outputs": [],
   "source": [
    "benimBosSetim.add(12)"
   ]
  },
  {
   "cell_type": "code",
   "execution_count": 15,
   "id": "dd06182e",
   "metadata": {},
   "outputs": [],
   "source": [
    "benimBosSetim.add(13)"
   ]
  },
  {
   "cell_type": "code",
   "execution_count": 16,
   "id": "5b49aad4",
   "metadata": {},
   "outputs": [
    {
     "data": {
      "text/plain": [
       "{12, 13}"
      ]
     },
     "execution_count": 16,
     "metadata": {},
     "output_type": "execute_result"
    }
   ],
   "source": [
    "benimBosSetim"
   ]
  },
  {
   "cell_type": "markdown",
   "id": "b1fa825e",
   "metadata": {},
   "source": [
    "Boş set oluşturma ve eleman ekleme."
   ]
  },
  {
   "cell_type": "code",
   "execution_count": 17,
   "id": "7d74a5ee",
   "metadata": {},
   "outputs": [],
   "source": [
    "benimBosSozlugum = {}"
   ]
  },
  {
   "cell_type": "code",
   "execution_count": 18,
   "id": "41197980",
   "metadata": {},
   "outputs": [],
   "source": [
    "benimBosSozlugum[\"omer\"] = 2"
   ]
  },
  {
   "cell_type": "code",
   "execution_count": 19,
   "id": "8024f75f",
   "metadata": {},
   "outputs": [
    {
     "data": {
      "text/plain": [
       "{'omer': 2}"
      ]
     },
     "execution_count": 19,
     "metadata": {},
     "output_type": "execute_result"
    }
   ],
   "source": [
    "benimBosSozlugum"
   ]
  },
  {
   "cell_type": "code",
   "execution_count": 20,
   "id": "d8ef1e98",
   "metadata": {},
   "outputs": [
    {
     "data": {
      "text/plain": [
       "2"
      ]
     },
     "execution_count": 20,
     "metadata": {},
     "output_type": "execute_result"
    }
   ],
   "source": [
    "benimBosSozlugum[\"omer\"]"
   ]
  },
  {
   "cell_type": "markdown",
   "id": "3478751b",
   "metadata": {},
   "source": [
    "Boş sözlük oluşturma ve eleman ekleme."
   ]
  },
  {
   "cell_type": "code",
   "execution_count": null,
   "id": "761bad4b",
   "metadata": {},
   "outputs": [],
   "source": []
  }
 ],
 "metadata": {
  "kernelspec": {
   "display_name": "Python 3 (ipykernel)",
   "language": "python",
   "name": "python3"
  },
  "language_info": {
   "codemirror_mode": {
    "name": "ipython",
    "version": 3
   },
   "file_extension": ".py",
   "mimetype": "text/x-python",
   "name": "python",
   "nbconvert_exporter": "python",
   "pygments_lexer": "ipython3",
   "version": "3.9.13"
  }
 },
 "nbformat": 4,
 "nbformat_minor": 5
}
