{
 "cells": [
  {
   "cell_type": "markdown",
   "id": "8ef958c4",
   "metadata": {},
   "source": [
    "## Anahtar kelime - değer eşleşmesi"
   ]
  },
  {
   "cell_type": "code",
   "execution_count": 1,
   "id": "d456ed78",
   "metadata": {},
   "outputs": [],
   "source": [
    "benimSozluk = {\"anahtar kelime\" : \"deger\"}"
   ]
  },
  {
   "cell_type": "code",
   "execution_count": 2,
   "id": "d3294e7b",
   "metadata": {},
   "outputs": [
    {
     "data": {
      "text/plain": [
       "'deger'"
      ]
     },
     "execution_count": 2,
     "metadata": {},
     "output_type": "execute_result"
    }
   ],
   "source": [
    "benimSozluk[\"anahtar kelime\"]"
   ]
  },
  {
   "cell_type": "markdown",
   "id": "155123ca",
   "metadata": {},
   "source": [
    "[\"anahtar kelime\" : \"deger\"] anahtar kelime girildiğinde karşılığındaki değeri verir."
   ]
  },
  {
   "cell_type": "code",
   "execution_count": 3,
   "id": "d845dd15",
   "metadata": {},
   "outputs": [],
   "source": [
    "yemekKalori = {\"elma\" : 100,\"muz\" : 200,\"armut\" : 300}"
   ]
  },
  {
   "cell_type": "code",
   "execution_count": 4,
   "id": "13643b15",
   "metadata": {},
   "outputs": [
    {
     "data": {
      "text/plain": [
       "200"
      ]
     },
     "execution_count": 4,
     "metadata": {},
     "output_type": "execute_result"
    }
   ],
   "source": [
    "yemekKalori[\"muz\"]"
   ]
  },
  {
   "cell_type": "code",
   "execution_count": 5,
   "id": "288f2d11",
   "metadata": {},
   "outputs": [],
   "source": [
    "yemekKalori[\"muz\"] = 150"
   ]
  },
  {
   "cell_type": "code",
   "execution_count": 6,
   "id": "ae6a636a",
   "metadata": {},
   "outputs": [
    {
     "data": {
      "text/plain": [
       "{'elma': 100, 'muz': 150, 'armut': 300}"
      ]
     },
     "execution_count": 6,
     "metadata": {},
     "output_type": "execute_result"
    }
   ],
   "source": [
    "yemekKalori"
   ]
  },
  {
   "cell_type": "markdown",
   "id": "44d4b155",
   "metadata": {},
   "source": [
    "Sözlük içerisindeki değeri daha sonrasında değiştirebiliyoruz."
   ]
  },
  {
   "cell_type": "code",
   "execution_count": 7,
   "id": "cae05cb8",
   "metadata": {},
   "outputs": [],
   "source": [
    "yeniSözlük = {\"a1\" : 5,\"a2\" : [1,2,\"omer\"],\"a3\" : {\"a4\" : 19}}"
   ]
  },
  {
   "cell_type": "code",
   "execution_count": 8,
   "id": "798ee780",
   "metadata": {},
   "outputs": [
    {
     "data": {
      "text/plain": [
       "'omer'"
      ]
     },
     "execution_count": 8,
     "metadata": {},
     "output_type": "execute_result"
    }
   ],
   "source": [
    "yeniSözlük[\"a2\"][2]"
   ]
  },
  {
   "cell_type": "code",
   "execution_count": 9,
   "id": "3c7495c3",
   "metadata": {},
   "outputs": [
    {
     "data": {
      "text/plain": [
       "19"
      ]
     },
     "execution_count": 9,
     "metadata": {},
     "output_type": "execute_result"
    }
   ],
   "source": [
    "yeniSözlük[\"a3\"][\"a4\"]"
   ]
  },
  {
   "cell_type": "code",
   "execution_count": 11,
   "id": "14ef94bf",
   "metadata": {},
   "outputs": [
    {
     "data": {
      "text/plain": [
       "dict_keys(['a1', 'a2', 'a3'])"
      ]
     },
     "execution_count": 11,
     "metadata": {},
     "output_type": "execute_result"
    }
   ],
   "source": [
    "yeniSözlük.keys()"
   ]
  },
  {
   "cell_type": "markdown",
   "id": "2a507ec0",
   "metadata": {},
   "source": [
    "\" keys \" komutu sözlükteki anahtar kelimeleri gösterir."
   ]
  },
  {
   "cell_type": "code",
   "execution_count": 12,
   "id": "9fff4f24",
   "metadata": {},
   "outputs": [
    {
     "data": {
      "text/plain": [
       "dict_values([5, [1, 2, 'omer'], {'a4': 19}])"
      ]
     },
     "execution_count": 12,
     "metadata": {},
     "output_type": "execute_result"
    }
   ],
   "source": [
    "yeniSözlük.values()"
   ]
  },
  {
   "cell_type": "markdown",
   "id": "9a1b6303",
   "metadata": {},
   "source": [
    "\" values \" komutu sözlükteki değerleri gösterir."
   ]
  },
  {
   "cell_type": "code",
   "execution_count": null,
   "id": "592ef8dd",
   "metadata": {},
   "outputs": [],
   "source": []
  }
 ],
 "metadata": {
  "kernelspec": {
   "display_name": "Python 3 (ipykernel)",
   "language": "python",
   "name": "python3"
  },
  "language_info": {
   "codemirror_mode": {
    "name": "ipython",
    "version": 3
   },
   "file_extension": ".py",
   "mimetype": "text/x-python",
   "name": "python",
   "nbconvert_exporter": "python",
   "pygments_lexer": "ipython3",
   "version": "3.9.13"
  }
 },
 "nbformat": 4,
 "nbformat_minor": 5
}
