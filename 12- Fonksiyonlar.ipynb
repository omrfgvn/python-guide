{
 "cells": [
  {
   "cell_type": "code",
   "execution_count": 1,
   "id": "80d7efab",
   "metadata": {},
   "outputs": [],
   "source": [
    "benimAdim = \"Omer Guven\""
   ]
  },
  {
   "cell_type": "code",
   "execution_count": 2,
   "id": "91e54597",
   "metadata": {},
   "outputs": [
    {
     "data": {
      "text/plain": [
       "'OMER GUVEN'"
      ]
     },
     "execution_count": 2,
     "metadata": {},
     "output_type": "execute_result"
    }
   ],
   "source": [
    "benimAdim.upper()"
   ]
  },
  {
   "cell_type": "code",
   "execution_count": 3,
   "id": "fa2c8743",
   "metadata": {},
   "outputs": [
    {
     "data": {
      "text/plain": [
       "'Omer Guven'"
      ]
     },
     "execution_count": 3,
     "metadata": {},
     "output_type": "execute_result"
    }
   ],
   "source": [
    "benimAdim"
   ]
  },
  {
   "cell_type": "code",
   "execution_count": 4,
   "id": "36ed4254",
   "metadata": {},
   "outputs": [],
   "source": [
    "benimAdimBuyuk = benimAdim.upper()"
   ]
  },
  {
   "cell_type": "code",
   "execution_count": 5,
   "id": "595a232a",
   "metadata": {},
   "outputs": [
    {
     "data": {
      "text/plain": [
       "'OMER GUVEN'"
      ]
     },
     "execution_count": 5,
     "metadata": {},
     "output_type": "execute_result"
    }
   ],
   "source": [
    "benimAdimBuyuk"
   ]
  },
  {
   "cell_type": "code",
   "execution_count": 6,
   "id": "978cadfb",
   "metadata": {},
   "outputs": [],
   "source": [
    "def ilkFonksiyon():\n",
    "    print(\"İlk Fonksiyonum\")"
   ]
  },
  {
   "cell_type": "code",
   "execution_count": 8,
   "id": "cc0c6a99",
   "metadata": {},
   "outputs": [
    {
     "name": "stdout",
     "output_type": "stream",
     "text": [
      "İlk Fonksiyonum\n"
     ]
    }
   ],
   "source": [
    "ilkFonksiyon()"
   ]
  },
  {
   "cell_type": "markdown",
   "id": "5728866f",
   "metadata": {},
   "source": [
    "\" def \" komutu ile fonksiyon tanımlaması yapabiliriz."
   ]
  },
  {
   "cell_type": "markdown",
   "id": "36ce38a3",
   "metadata": {},
   "source": [
    "## input&return"
   ]
  },
  {
   "cell_type": "code",
   "execution_count": 1,
   "id": "eaa36e3a",
   "metadata": {},
   "outputs": [],
   "source": [
    "def merhaba(yazdirilacakIsim):\n",
    "    print(\"merhaba\")\n",
    "    print(yazdirilacakIsim)"
   ]
  },
  {
   "cell_type": "code",
   "execution_count": 3,
   "id": "8186fbf0",
   "metadata": {},
   "outputs": [
    {
     "name": "stdout",
     "output_type": "stream",
     "text": [
      "merhaba\n",
      "omer\n"
     ]
    }
   ],
   "source": [
    "merhaba(\"omer\")"
   ]
  },
  {
   "cell_type": "markdown",
   "id": "1e18fd6e",
   "metadata": {},
   "source": [
    "argüman girilir ve kod bloğuna göre çıktı alınır."
   ]
  },
  {
   "cell_type": "code",
   "execution_count": 4,
   "id": "364c4c15",
   "metadata": {},
   "outputs": [],
   "source": [
    "def merhabaa(isim = \"omer\"):\n",
    "    print(\"merhaba\")\n",
    "    print(isim)"
   ]
  },
  {
   "cell_type": "code",
   "execution_count": 6,
   "id": "ce8b2b63",
   "metadata": {},
   "outputs": [
    {
     "name": "stdout",
     "output_type": "stream",
     "text": [
      "merhaba\n",
      "ahmet\n"
     ]
    }
   ],
   "source": [
    "merhabaa(\"ahmet\")"
   ]
  },
  {
   "cell_type": "code",
   "execution_count": 7,
   "id": "66118056",
   "metadata": {},
   "outputs": [
    {
     "name": "stdout",
     "output_type": "stream",
     "text": [
      "merhaba\n",
      "omer\n"
     ]
    }
   ],
   "source": [
    "merhabaa()"
   ]
  },
  {
   "cell_type": "markdown",
   "id": "0ac6a244",
   "metadata": {},
   "source": [
    "argüman girmesek bile bir şey tanımladığımız için yazılan şey kodlara uygun olarak ilerler."
   ]
  },
  {
   "cell_type": "code",
   "execution_count": 8,
   "id": "b36b1c5f",
   "metadata": {},
   "outputs": [],
   "source": [
    "def toplama(num1,num2):\n",
    "    print(num1+num2);"
   ]
  },
  {
   "cell_type": "code",
   "execution_count": 9,
   "id": "2a52de33",
   "metadata": {},
   "outputs": [
    {
     "name": "stdout",
     "output_type": "stream",
     "text": [
      "30\n"
     ]
    }
   ],
   "source": [
    "toplama(10,20)"
   ]
  },
  {
   "cell_type": "code",
   "execution_count": 10,
   "id": "88da8571",
   "metadata": {},
   "outputs": [
    {
     "name": "stdout",
     "output_type": "stream",
     "text": [
      "30\n"
     ]
    }
   ],
   "source": [
    "yeniDegisken = toplama(10,20)"
   ]
  },
  {
   "cell_type": "code",
   "execution_count": 14,
   "id": "f0e8015f",
   "metadata": {},
   "outputs": [],
   "source": [
    "yeniDegisken"
   ]
  },
  {
   "cell_type": "markdown",
   "id": "4f7cab0d",
   "metadata": {},
   "source": [
    "fonksiyon bir şeye eşitlenip tekrar çağrıldığı zaman bir çıktı vermiyor çünkü içerisinde döngü yok."
   ]
  },
  {
   "cell_type": "code",
   "execution_count": 15,
   "id": "0f0aca93",
   "metadata": {},
   "outputs": [],
   "source": [
    "def döndürmeliToplama(num1,num2):\n",
    "    return num1+num2"
   ]
  },
  {
   "cell_type": "code",
   "execution_count": 16,
   "id": "fc1fd15b",
   "metadata": {},
   "outputs": [],
   "source": [
    "yeniDegisken2 = döndürmeliToplama(10,20)"
   ]
  },
  {
   "cell_type": "code",
   "execution_count": 17,
   "id": "22982ac1",
   "metadata": {},
   "outputs": [
    {
     "data": {
      "text/plain": [
       "30"
      ]
     },
     "execution_count": 17,
     "metadata": {},
     "output_type": "execute_result"
    }
   ],
   "source": [
    "yeniDegisken2"
   ]
  },
  {
   "cell_type": "markdown",
   "id": "ce7d1acd",
   "metadata": {},
   "source": [
    "\" return \" yaptığımız zaman bu işlemi gerçekleştirebildik."
   ]
  },
  {
   "cell_type": "code",
   "execution_count": 20,
   "id": "061bc30d",
   "metadata": {},
   "outputs": [],
   "source": [
    "def kontrolFonksiyon(s):\n",
    "    if s == \"ömer\":\n",
    "        print(\"ömer stringi\")\n",
    "    else:\n",
    "        print(\"başka bir string\")\n",
    "    "
   ]
  },
  {
   "cell_type": "code",
   "execution_count": 21,
   "id": "175b3397",
   "metadata": {},
   "outputs": [
    {
     "name": "stdout",
     "output_type": "stream",
     "text": [
      "ömer stringi\n"
     ]
    }
   ],
   "source": [
    "kontrolFonksiyon(\"ömer\")"
   ]
  },
  {
   "cell_type": "code",
   "execution_count": 22,
   "id": "5be36ffd",
   "metadata": {},
   "outputs": [
    {
     "name": "stdout",
     "output_type": "stream",
     "text": [
      "başka bir string\n"
     ]
    }
   ],
   "source": [
    "kontrolFonksiyon(\"ahmet\")"
   ]
  },
  {
   "cell_type": "markdown",
   "id": "ccfb6449",
   "metadata": {},
   "source": [
    "## args&kwargs"
   ]
  },
  {
   "cell_type": "code",
   "execution_count": 26,
   "id": "a733881f",
   "metadata": {},
   "outputs": [],
   "source": [
    "def yeniToplama(*args):\n",
    "    print(sum(args))"
   ]
  },
  {
   "cell_type": "code",
   "execution_count": 27,
   "id": "5e5bcbf3",
   "metadata": {},
   "outputs": [
    {
     "name": "stdout",
     "output_type": "stream",
     "text": [
      "150\n"
     ]
    }
   ],
   "source": [
    "yeniToplama(10,20,30,40,50)"
   ]
  },
  {
   "cell_type": "code",
   "execution_count": 33,
   "id": "b24ef190",
   "metadata": {},
   "outputs": [],
   "source": [
    "def benimFonksiyonum(*args):\n",
    "    return args"
   ]
  },
  {
   "cell_type": "code",
   "execution_count": 32,
   "id": "5191bd93",
   "metadata": {},
   "outputs": [
    {
     "name": "stdout",
     "output_type": "stream",
     "text": [
      "(10, 20, 30, 50)\n"
     ]
    },
    {
     "data": {
      "text/plain": [
       "NoneType"
      ]
     },
     "execution_count": 32,
     "metadata": {},
     "output_type": "execute_result"
    }
   ],
   "source": [
    "type(benimFonksiyonum(10,20,30,50))"
   ]
  },
  {
   "cell_type": "code",
   "execution_count": 35,
   "id": "81c2ca62",
   "metadata": {},
   "outputs": [
    {
     "data": {
      "text/plain": [
       "tuple"
      ]
     },
     "execution_count": 35,
     "metadata": {},
     "output_type": "execute_result"
    }
   ],
   "source": [
    "type(benimFonksiyonum(10,20,30,60))"
   ]
  },
  {
   "cell_type": "code",
   "execution_count": 39,
   "id": "f54fc13a",
   "metadata": {},
   "outputs": [],
   "source": [
    "def örnekFonksiyon(**kwargs):\n",
    "    return(kwargs)"
   ]
  },
  {
   "cell_type": "code",
   "execution_count": 38,
   "id": "58c5e261",
   "metadata": {},
   "outputs": [
    {
     "name": "stdout",
     "output_type": "stream",
     "text": [
      "{'muz': 10, 'elma': 20}\n"
     ]
    },
    {
     "data": {
      "text/plain": [
       "NoneType"
      ]
     },
     "execution_count": 38,
     "metadata": {},
     "output_type": "execute_result"
    }
   ],
   "source": [
    "type(örnekFonksiyon(muz = 10,elma = 20))"
   ]
  },
  {
   "cell_type": "code",
   "execution_count": 41,
   "id": "728f1679",
   "metadata": {},
   "outputs": [
    {
     "data": {
      "text/plain": [
       "dict"
      ]
     },
     "execution_count": 41,
     "metadata": {},
     "output_type": "execute_result"
    }
   ],
   "source": [
    "type(örnekFonksiyon(muz = 20,armut = 100))"
   ]
  },
  {
   "cell_type": "code",
   "execution_count": 42,
   "id": "90ffdd83",
   "metadata": {},
   "outputs": [],
   "source": [
    "def keywordKontrolu(**kwargs):\n",
    "    if \"omer\" in kwargs:\n",
    "        print(\"omer var\")\n",
    "    else:\n",
    "        print(\"omer yok\")"
   ]
  },
  {
   "cell_type": "code",
   "execution_count": 43,
   "id": "eef93b85",
   "metadata": {},
   "outputs": [
    {
     "name": "stdout",
     "output_type": "stream",
     "text": [
      "omer var\n"
     ]
    }
   ],
   "source": [
    "keywordKontrolu(omer = 10,ahmet = 20)"
   ]
  },
  {
   "cell_type": "code",
   "execution_count": 44,
   "id": "d86efa01",
   "metadata": {},
   "outputs": [
    {
     "name": "stdout",
     "output_type": "stream",
     "text": [
      "omer yok\n"
     ]
    }
   ],
   "source": [
    "keywordKontrolu(ahmet = 11,burak = 32)"
   ]
  },
  {
   "cell_type": "code",
   "execution_count": null,
   "id": "83734d4c",
   "metadata": {},
   "outputs": [],
   "source": []
  }
 ],
 "metadata": {
  "kernelspec": {
   "display_name": "Python 3 (ipykernel)",
   "language": "python",
   "name": "python3"
  },
  "language_info": {
   "codemirror_mode": {
    "name": "ipython",
    "version": 3
   },
   "file_extension": ".py",
   "mimetype": "text/x-python",
   "name": "python",
   "nbconvert_exporter": "python",
   "pygments_lexer": "ipython3",
   "version": "3.9.13"
  }
 },
 "nbformat": 4,
 "nbformat_minor": 5
}
