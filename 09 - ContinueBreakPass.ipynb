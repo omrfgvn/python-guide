{
 "cells": [
  {
   "cell_type": "code",
   "execution_count": 1,
   "id": "6809bfd3",
   "metadata": {},
   "outputs": [],
   "source": [
    "benimListem = [5,10,15,20]"
   ]
  },
  {
   "cell_type": "code",
   "execution_count": 3,
   "id": "5ff5eb43",
   "metadata": {},
   "outputs": [
    {
     "name": "stdout",
     "output_type": "stream",
     "text": [
      "5\n",
      "10\n"
     ]
    }
   ],
   "source": [
    "for numara in benimListem:\n",
    "    if numara == 15:\n",
    "        break\n",
    "    print(numara)"
   ]
  },
  {
   "cell_type": "markdown",
   "id": "0ee878d4",
   "metadata": {},
   "source": [
    "\" break \" numara 15 ise döngüyü durdur.Ynai döngüyü durdurmaya yarar."
   ]
  },
  {
   "cell_type": "code",
   "execution_count": 4,
   "id": "24b705ef",
   "metadata": {},
   "outputs": [
    {
     "name": "stdout",
     "output_type": "stream",
     "text": [
      "5\n",
      "10\n",
      "20\n"
     ]
    }
   ],
   "source": [
    "for numara in benimListem:\n",
    "    if numara == 15:\n",
    "        continue\n",
    "    print(numara)"
   ]
  },
  {
   "cell_type": "markdown",
   "id": "f2d62680",
   "metadata": {},
   "source": [
    "\" continue \" burda durma devam et anlamına gelir."
   ]
  },
  {
   "cell_type": "code",
   "execution_count": 5,
   "id": "71dc20cb",
   "metadata": {},
   "outputs": [],
   "source": [
    "for numara in benimListem:\n",
    "    pass"
   ]
  },
  {
   "cell_type": "markdown",
   "id": "cb76f543",
   "metadata": {},
   "source": [
    "\" pass \" burada işlem yapılmayacaksa ya da sonradan ekleme yapılcaksa kullanılır."
   ]
  },
  {
   "cell_type": "code",
   "execution_count": null,
   "id": "49c731b7",
   "metadata": {},
   "outputs": [],
   "source": []
  }
 ],
 "metadata": {
  "kernelspec": {
   "display_name": "Python 3 (ipykernel)",
   "language": "python",
   "name": "python3"
  },
  "language_info": {
   "codemirror_mode": {
    "name": "ipython",
    "version": 3
   },
   "file_extension": ".py",
   "mimetype": "text/x-python",
   "name": "python",
   "nbconvert_exporter": "python",
   "pygments_lexer": "ipython3",
   "version": "3.9.13"
  }
 },
 "nbformat": 4,
 "nbformat_minor": 5
}
