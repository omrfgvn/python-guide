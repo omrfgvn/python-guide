{
 "cells": [
  {
   "cell_type": "markdown",
   "id": "c3962222",
   "metadata": {},
   "source": [
    "True ve false değerlerini veren veri tipidir."
   ]
  },
  {
   "cell_type": "code",
   "execution_count": 1,
   "id": "679f31a7",
   "metadata": {},
   "outputs": [
    {
     "data": {
      "text/plain": [
       "False"
      ]
     },
     "execution_count": 1,
     "metadata": {},
     "output_type": "execute_result"
    }
   ],
   "source": [
    "10 < 5"
   ]
  },
  {
   "cell_type": "code",
   "execution_count": 2,
   "id": "3425f8e4",
   "metadata": {},
   "outputs": [
    {
     "data": {
      "text/plain": [
       "True"
      ]
     },
     "execution_count": 2,
     "metadata": {},
     "output_type": "execute_result"
    }
   ],
   "source": [
    "10 > 5"
   ]
  },
  {
   "cell_type": "code",
   "execution_count": 3,
   "id": "c6ca99f8",
   "metadata": {},
   "outputs": [],
   "source": [
    "maas = [1000,2000,3000,4000]"
   ]
  },
  {
   "cell_type": "code",
   "execution_count": 4,
   "id": "03d77ae6",
   "metadata": {},
   "outputs": [
    {
     "data": {
      "text/plain": [
       "4"
      ]
     },
     "execution_count": 4,
     "metadata": {},
     "output_type": "execute_result"
    }
   ],
   "source": [
    "len(maas)"
   ]
  },
  {
   "cell_type": "code",
   "execution_count": 5,
   "id": "7270a0dd",
   "metadata": {},
   "outputs": [
    {
     "data": {
      "text/plain": [
       "10000"
      ]
     },
     "execution_count": 5,
     "metadata": {},
     "output_type": "execute_result"
    }
   ],
   "source": [
    "sum(maas)"
   ]
  },
  {
   "cell_type": "markdown",
   "id": "4ec54de3",
   "metadata": {},
   "source": [
    "\" sum \" komutu listedeki elemanları toplamaya yarar."
   ]
  },
  {
   "cell_type": "code",
   "execution_count": 6,
   "id": "cfe86472",
   "metadata": {},
   "outputs": [],
   "source": [
    "maasOrtalama = sum(maas) / len(maas)"
   ]
  },
  {
   "cell_type": "code",
   "execution_count": 7,
   "id": "812a81d3",
   "metadata": {},
   "outputs": [
    {
     "data": {
      "text/plain": [
       "2500.0"
      ]
     },
     "execution_count": 7,
     "metadata": {},
     "output_type": "execute_result"
    }
   ],
   "source": [
    "maasOrtalama"
   ]
  },
  {
   "cell_type": "code",
   "execution_count": 8,
   "id": "05065b3c",
   "metadata": {},
   "outputs": [
    {
     "name": "stdout",
     "output_type": "stream",
     "text": [
      "maaşınızı giriniz: 3214\n"
     ]
    }
   ],
   "source": [
    "kullaniciMaas = input(\"maaşınızı giriniz: \")"
   ]
  },
  {
   "cell_type": "code",
   "execution_count": 9,
   "id": "4dbbdb1c",
   "metadata": {},
   "outputs": [],
   "source": [
    "kullaniciMaasInput = int(kullaniciMaas)"
   ]
  },
  {
   "cell_type": "code",
   "execution_count": 10,
   "id": "b158384e",
   "metadata": {},
   "outputs": [
    {
     "data": {
      "text/plain": [
       "False"
      ]
     },
     "execution_count": 10,
     "metadata": {},
     "output_type": "execute_result"
    }
   ],
   "source": [
    "kullaniciMaasInput < maasOrtalama\n"
   ]
  },
  {
   "cell_type": "code",
   "execution_count": 11,
   "id": "57a6f7f2",
   "metadata": {},
   "outputs": [
    {
     "data": {
      "text/plain": [
       "True"
      ]
     },
     "execution_count": 11,
     "metadata": {},
     "output_type": "execute_result"
    }
   ],
   "source": [
    "kullaniciMaasInput > maasOrtalama"
   ]
  },
  {
   "cell_type": "code",
   "execution_count": 1,
   "id": "dc67024f",
   "metadata": {},
   "outputs": [],
   "source": [
    "x = 2\n",
    "y = 5"
   ]
  },
  {
   "cell_type": "code",
   "execution_count": 2,
   "id": "5be37cf6",
   "metadata": {},
   "outputs": [
    {
     "data": {
      "text/plain": [
       "True"
      ]
     },
     "execution_count": 2,
     "metadata": {},
     "output_type": "execute_result"
    }
   ],
   "source": [
    "x < y"
   ]
  },
  {
   "cell_type": "code",
   "execution_count": 3,
   "id": "e541dc59",
   "metadata": {},
   "outputs": [
    {
     "data": {
      "text/plain": [
       "False"
      ]
     },
     "execution_count": 3,
     "metadata": {},
     "output_type": "execute_result"
    }
   ],
   "source": [
    "x > y"
   ]
  },
  {
   "cell_type": "code",
   "execution_count": 4,
   "id": "1585ad42",
   "metadata": {},
   "outputs": [
    {
     "data": {
      "text/plain": [
       "False"
      ]
     },
     "execution_count": 4,
     "metadata": {},
     "output_type": "execute_result"
    }
   ],
   "source": [
    "x == y"
   ]
  },
  {
   "cell_type": "markdown",
   "id": "9f141728",
   "metadata": {},
   "source": [
    "\" == \" eşit mi sorusunu sormamızı sağlar."
   ]
  },
  {
   "cell_type": "code",
   "execution_count": 5,
   "id": "d004cddb",
   "metadata": {},
   "outputs": [
    {
     "data": {
      "text/plain": [
       "True"
      ]
     },
     "execution_count": 5,
     "metadata": {},
     "output_type": "execute_result"
    }
   ],
   "source": [
    "x != y"
   ]
  },
  {
   "cell_type": "markdown",
   "id": "c1ea83a8",
   "metadata": {},
   "source": [
    "\" != \" eşit değil mi sorusunu sormamızı sağlar."
   ]
  },
  {
   "cell_type": "code",
   "execution_count": 6,
   "id": "01fedc38",
   "metadata": {},
   "outputs": [
    {
     "data": {
      "text/plain": [
       "True"
      ]
     },
     "execution_count": 6,
     "metadata": {},
     "output_type": "execute_result"
    }
   ],
   "source": [
    "3>1 and 2<4"
   ]
  },
  {
   "cell_type": "code",
   "execution_count": 7,
   "id": "918157ef",
   "metadata": {},
   "outputs": [
    {
     "data": {
      "text/plain": [
       "False"
      ]
     },
     "execution_count": 7,
     "metadata": {},
     "output_type": "execute_result"
    }
   ],
   "source": [
    "3>4 and 2<5"
   ]
  },
  {
   "cell_type": "code",
   "execution_count": 8,
   "id": "1e9d9de1",
   "metadata": {},
   "outputs": [
    {
     "data": {
      "text/plain": [
       "True"
      ]
     },
     "execution_count": 8,
     "metadata": {},
     "output_type": "execute_result"
    }
   ],
   "source": [
    "3<4 or 2>5"
   ]
  },
  {
   "cell_type": "code",
   "execution_count": 9,
   "id": "3d4739ec",
   "metadata": {},
   "outputs": [
    {
     "data": {
      "text/plain": [
       "True"
      ]
     },
     "execution_count": 9,
     "metadata": {},
     "output_type": "execute_result"
    }
   ],
   "source": [
    "not x == y"
   ]
  },
  {
   "cell_type": "code",
   "execution_count": 10,
   "id": "d4ca4a84",
   "metadata": {},
   "outputs": [
    {
     "data": {
      "text/plain": [
       "False"
      ]
     },
     "execution_count": 10,
     "metadata": {},
     "output_type": "execute_result"
    }
   ],
   "source": [
    "not x != y"
   ]
  },
  {
   "cell_type": "markdown",
   "id": "ac261a7a",
   "metadata": {},
   "source": [
    "\" not \" çıkan sonucun değilini ( tersini ) alır."
   ]
  },
  {
   "cell_type": "code",
   "execution_count": null,
   "id": "03b02bb2",
   "metadata": {},
   "outputs": [],
   "source": []
  }
 ],
 "metadata": {
  "kernelspec": {
   "display_name": "Python 3 (ipykernel)",
   "language": "python",
   "name": "python3"
  },
  "language_info": {
   "codemirror_mode": {
    "name": "ipython",
    "version": 3
   },
   "file_extension": ".py",
   "mimetype": "text/x-python",
   "name": "python",
   "nbconvert_exporter": "python",
   "pygments_lexer": "ipython3",
   "version": "3.9.13"
  }
 },
 "nbformat": 4,
 "nbformat_minor": 5
}
