{
 "cells": [
  {
   "cell_type": "code",
   "execution_count": 1,
   "id": "c036857d",
   "metadata": {},
   "outputs": [],
   "source": [
    "def bölmeIslemi(num):\n",
    "    return num/2"
   ]
  },
  {
   "cell_type": "code",
   "execution_count": 2,
   "id": "176393a8",
   "metadata": {},
   "outputs": [
    {
     "data": {
      "text/plain": [
       "25.0"
      ]
     },
     "execution_count": 2,
     "metadata": {},
     "output_type": "execute_result"
    }
   ],
   "source": [
    "bölmeIslemi(50)"
   ]
  },
  {
   "cell_type": "code",
   "execution_count": 3,
   "id": "93e65966",
   "metadata": {},
   "outputs": [],
   "source": [
    "yeniListe = []\n",
    "benimListem = range(0,10)"
   ]
  },
  {
   "cell_type": "code",
   "execution_count": 4,
   "id": "9d6e323c",
   "metadata": {},
   "outputs": [],
   "source": [
    "for eleman in benimListem:\n",
    "    yeniListe.append(bölmeIslemi(eleman))"
   ]
  },
  {
   "cell_type": "code",
   "execution_count": 5,
   "id": "06b94f09",
   "metadata": {},
   "outputs": [
    {
     "data": {
      "text/plain": [
       "[0.0, 0.5, 1.0, 1.5, 2.0, 2.5, 3.0, 3.5, 4.0, 4.5]"
      ]
     },
     "execution_count": 5,
     "metadata": {},
     "output_type": "execute_result"
    }
   ],
   "source": [
    "yeniListe"
   ]
  },
  {
   "cell_type": "markdown",
   "id": "9e0ea3a3",
   "metadata": {},
   "source": [
    "## map"
   ]
  },
  {
   "cell_type": "code",
   "execution_count": 8,
   "id": "d132bc33",
   "metadata": {},
   "outputs": [],
   "source": [
    "benimListem2 = [1,2,3,4,5,6,7,8,9]"
   ]
  },
  {
   "cell_type": "code",
   "execution_count": 10,
   "id": "d0cf35f4",
   "metadata": {},
   "outputs": [
    {
     "data": {
      "text/plain": [
       "[0.5, 1.0, 1.5, 2.0, 2.5, 3.0, 3.5, 4.0, 4.5]"
      ]
     },
     "execution_count": 10,
     "metadata": {},
     "output_type": "execute_result"
    }
   ],
   "source": [
    "list(map(bölmeIslemi,benimListem2))"
   ]
  },
  {
   "cell_type": "code",
   "execution_count": 11,
   "id": "aeac9ead",
   "metadata": {},
   "outputs": [],
   "source": [
    "def kontrolFonksiyonu(string):\n",
    "    return \"a\" in string"
   ]
  },
  {
   "cell_type": "code",
   "execution_count": 12,
   "id": "a8584aa9",
   "metadata": {},
   "outputs": [
    {
     "data": {
      "text/plain": [
       "False"
      ]
     },
     "execution_count": 12,
     "metadata": {},
     "output_type": "execute_result"
    }
   ],
   "source": [
    "kontrolFonksiyonu(\"omer\")"
   ]
  },
  {
   "cell_type": "code",
   "execution_count": 13,
   "id": "7873efe8",
   "metadata": {},
   "outputs": [
    {
     "data": {
      "text/plain": [
       "True"
      ]
     },
     "execution_count": 13,
     "metadata": {},
     "output_type": "execute_result"
    }
   ],
   "source": [
    "kontrolFonksiyonu(\"ahmet\")"
   ]
  },
  {
   "cell_type": "code",
   "execution_count": 14,
   "id": "f15adb26",
   "metadata": {},
   "outputs": [],
   "source": [
    "stringListesi = [\"ahmet\" , \"omer\" , \"burak\" , \"ayşe\"]"
   ]
  },
  {
   "cell_type": "code",
   "execution_count": 15,
   "id": "4412cf75",
   "metadata": {},
   "outputs": [
    {
     "data": {
      "text/plain": [
       "[True, False, True, True]"
      ]
     },
     "execution_count": 15,
     "metadata": {},
     "output_type": "execute_result"
    }
   ],
   "source": [
    "list(map(kontrolFonksiyonu,stringListesi))"
   ]
  },
  {
   "cell_type": "markdown",
   "id": "4653bd2b",
   "metadata": {},
   "source": [
    "bütün hepsini döndürüyor true , false şeklinde"
   ]
  },
  {
   "cell_type": "markdown",
   "id": "638a142d",
   "metadata": {},
   "source": [
    "## filter"
   ]
  },
  {
   "cell_type": "code",
   "execution_count": 16,
   "id": "6d7a236f",
   "metadata": {},
   "outputs": [
    {
     "data": {
      "text/plain": [
       "['ahmet', 'burak', 'ayşe']"
      ]
     },
     "execution_count": 16,
     "metadata": {},
     "output_type": "execute_result"
    }
   ],
   "source": [
    "list(filter(kontrolFonksiyonu,stringListesi))"
   ]
  },
  {
   "cell_type": "markdown",
   "id": "74df3e02",
   "metadata": {},
   "source": [
    "true olanları döndürüyor."
   ]
  },
  {
   "cell_type": "markdown",
   "id": "54476aa1",
   "metadata": {},
   "source": [
    "## lambda"
   ]
  },
  {
   "cell_type": "code",
   "execution_count": 17,
   "id": "46cea68d",
   "metadata": {},
   "outputs": [],
   "source": [
    "carpma = lambda numara : numara*3"
   ]
  },
  {
   "cell_type": "code",
   "execution_count": 18,
   "id": "f7c754e7",
   "metadata": {},
   "outputs": [
    {
     "data": {
      "text/plain": [
       "30"
      ]
     },
     "execution_count": 18,
     "metadata": {},
     "output_type": "execute_result"
    }
   ],
   "source": [
    "carpma(10)"
   ]
  },
  {
   "cell_type": "code",
   "execution_count": 19,
   "id": "6915ea2f",
   "metadata": {},
   "outputs": [],
   "source": [
    "ornekListesi = [19,20,32]"
   ]
  },
  {
   "cell_type": "code",
   "execution_count": 20,
   "id": "e37efc73",
   "metadata": {},
   "outputs": [
    {
     "data": {
      "text/plain": [
       "[24, 25, 37]"
      ]
     },
     "execution_count": 20,
     "metadata": {},
     "output_type": "execute_result"
    }
   ],
   "source": [
    "list(map(lambda numara : numara+5,ornekListesi))"
   ]
  },
  {
   "cell_type": "code",
   "execution_count": null,
   "id": "a60fa264",
   "metadata": {},
   "outputs": [],
   "source": []
  }
 ],
 "metadata": {
  "kernelspec": {
   "display_name": "Python 3 (ipykernel)",
   "language": "python",
   "name": "python3"
  },
  "language_info": {
   "codemirror_mode": {
    "name": "ipython",
    "version": 3
   },
   "file_extension": ".py",
   "mimetype": "text/x-python",
   "name": "python",
   "nbconvert_exporter": "python",
   "pygments_lexer": "ipython3",
   "version": "3.9.13"
  }
 },
 "nbformat": 4,
 "nbformat_minor": 5
}
