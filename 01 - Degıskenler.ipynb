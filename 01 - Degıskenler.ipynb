{
 "cells": [
  {
   "cell_type": "code",
   "execution_count": 21,
   "id": "3cfe7a8c",
   "metadata": {},
   "outputs": [
    {
     "data": {
      "text/plain": [
       "12"
      ]
     },
     "execution_count": 21,
     "metadata": {},
     "output_type": "execute_result"
    }
   ],
   "source": [
    "5+7 "
   ]
  },
  {
   "cell_type": "markdown",
   "id": "89b52bd2",
   "metadata": {},
   "source": [
    "Markdown seçerek yorum hücresi haline getirebiliriz.Ayrıca hücreye \" ## \" koyup da başlarsak yorum hücresi haline gelir."
   ]
  },
  {
   "cell_type": "markdown",
   "id": "ba00fdb2",
   "metadata": {},
   "source": [
    "\" Run \" komutu seçili hücreyi çalıştırırken , \" Run All \" komutu bütün hücreleri çalıştırır."
   ]
  },
  {
   "cell_type": "markdown",
   "id": "798950a7",
   "metadata": {},
   "source": [
    "## Değişkenler "
   ]
  },
  {
   "cell_type": "code",
   "execution_count": 30,
   "id": "489852d2",
   "metadata": {},
   "outputs": [],
   "source": [
    "x = 5\n",
    "y = 10"
   ]
  },
  {
   "cell_type": "code",
   "execution_count": 25,
   "id": "824cb637",
   "metadata": {},
   "outputs": [
    {
     "data": {
      "text/plain": [
       "50"
      ]
     },
     "execution_count": 25,
     "metadata": {},
     "output_type": "execute_result"
    }
   ],
   "source": [
    "x * y"
   ]
  },
  {
   "cell_type": "code",
   "execution_count": 26,
   "id": "89af4f5e",
   "metadata": {},
   "outputs": [],
   "source": [
    "x = 2"
   ]
  },
  {
   "cell_type": "code",
   "execution_count": 31,
   "id": "46aebc35",
   "metadata": {},
   "outputs": [
    {
     "data": {
      "text/plain": [
       "50"
      ]
     },
     "execution_count": 31,
     "metadata": {},
     "output_type": "execute_result"
    }
   ],
   "source": [
    "x * y"
   ]
  },
  {
   "cell_type": "code",
   "execution_count": 29,
   "id": "c3c23dc6",
   "metadata": {},
   "outputs": [
    {
     "data": {
      "text/plain": [
       "70"
      ]
     },
     "execution_count": 29,
     "metadata": {},
     "output_type": "execute_result"
    }
   ],
   "source": [
    "y * 7"
   ]
  },
  {
   "cell_type": "markdown",
   "id": "f7ccf91e",
   "metadata": {},
   "source": [
    "Son olarak çalıştırılan hücredeki değişken bilgisini hafızada tutar."
   ]
  },
  {
   "cell_type": "markdown",
   "id": "bb9580fc",
   "metadata": {},
   "source": [
    "## Integer & Float"
   ]
  },
  {
   "cell_type": "code",
   "execution_count": 32,
   "id": "da3daee2",
   "metadata": {},
   "outputs": [],
   "source": [
    "benimdegiskenim = 5\n",
    "benimdigerdegiskenim = 2"
   ]
  },
  {
   "cell_type": "code",
   "execution_count": 33,
   "id": "58881705",
   "metadata": {},
   "outputs": [
    {
     "data": {
      "text/plain": [
       "7"
      ]
     },
     "execution_count": 33,
     "metadata": {},
     "output_type": "execute_result"
    }
   ],
   "source": [
    "benimdegiskenim + benimdigerdegiskenim"
   ]
  },
  {
   "cell_type": "code",
   "execution_count": 34,
   "id": "560148f6",
   "metadata": {},
   "outputs": [],
   "source": [
    "sonuc = benimdegiskenim / benimdigerdegiskenim"
   ]
  },
  {
   "cell_type": "code",
   "execution_count": 35,
   "id": "951e38f8",
   "metadata": {},
   "outputs": [
    {
     "data": {
      "text/plain": [
       "2.5"
      ]
     },
     "execution_count": 35,
     "metadata": {},
     "output_type": "execute_result"
    }
   ],
   "source": [
    "sonuc"
   ]
  },
  {
   "cell_type": "code",
   "execution_count": 37,
   "id": "751b3636",
   "metadata": {},
   "outputs": [
    {
     "data": {
      "text/plain": [
       "int"
      ]
     },
     "execution_count": 37,
     "metadata": {},
     "output_type": "execute_result"
    }
   ],
   "source": [
    "type(benimdegiskenim)"
   ]
  },
  {
   "cell_type": "code",
   "execution_count": 36,
   "id": "7ee937e3",
   "metadata": {},
   "outputs": [
    {
     "data": {
      "text/plain": [
       "float"
      ]
     },
     "execution_count": 36,
     "metadata": {},
     "output_type": "execute_result"
    }
   ],
   "source": [
    "type(sonuc)"
   ]
  },
  {
   "cell_type": "markdown",
   "id": "5cda4fde",
   "metadata": {},
   "source": [
    "\" type \" komutu o degiskenin tipi hakkında bize bilgi verir."
   ]
  },
  {
   "cell_type": "markdown",
   "id": "42a40d19",
   "metadata": {},
   "source": [
    "## Matematiksel İşlemler"
   ]
  },
  {
   "cell_type": "code",
   "execution_count": 38,
   "id": "6eb92c7e",
   "metadata": {},
   "outputs": [],
   "source": [
    "x = 5\n",
    "y = 10"
   ]
  },
  {
   "cell_type": "code",
   "execution_count": 39,
   "id": "753cd454",
   "metadata": {},
   "outputs": [
    {
     "data": {
      "text/plain": [
       "50"
      ]
     },
     "execution_count": 39,
     "metadata": {},
     "output_type": "execute_result"
    }
   ],
   "source": [
    "x * y"
   ]
  },
  {
   "cell_type": "code",
   "execution_count": 40,
   "id": "ef5c20b0",
   "metadata": {},
   "outputs": [
    {
     "data": {
      "text/plain": [
       "625"
      ]
     },
     "execution_count": 40,
     "metadata": {},
     "output_type": "execute_result"
    }
   ],
   "source": [
    "x * x * x * x"
   ]
  },
  {
   "cell_type": "code",
   "execution_count": 41,
   "id": "1b507b8f",
   "metadata": {},
   "outputs": [
    {
     "data": {
      "text/plain": [
       "625"
      ]
     },
     "execution_count": 41,
     "metadata": {},
     "output_type": "execute_result"
    }
   ],
   "source": [
    "x ** 4"
   ]
  },
  {
   "cell_type": "markdown",
   "id": "faa7c5fe",
   "metadata": {},
   "source": [
    "\" ** \" ifadesi üssü anlamına gelmektedir."
   ]
  },
  {
   "cell_type": "code",
   "execution_count": 43,
   "id": "a6c5021c",
   "metadata": {},
   "outputs": [],
   "source": [
    "x = 17\n",
    "y = 3"
   ]
  },
  {
   "cell_type": "code",
   "execution_count": 44,
   "id": "7078e60a",
   "metadata": {},
   "outputs": [
    {
     "data": {
      "text/plain": [
       "2"
      ]
     },
     "execution_count": 44,
     "metadata": {},
     "output_type": "execute_result"
    }
   ],
   "source": [
    "x % y"
   ]
  },
  {
   "cell_type": "markdown",
   "id": "24a92830",
   "metadata": {},
   "source": [
    "\" % \" ifadesi mod alma yani kalanını bulma anlamına gelmektedir. "
   ]
  },
  {
   "cell_type": "code",
   "execution_count": 47,
   "id": "9204d671",
   "metadata": {},
   "outputs": [
    {
     "name": "stdout",
     "output_type": "stream",
     "text": [
      "Yaşınızı giriniz: 40\n"
     ]
    }
   ],
   "source": [
    "kullanicininYasi = input(\"Yaşınızı giriniz: \")"
   ]
  },
  {
   "cell_type": "code",
   "execution_count": 49,
   "id": "df37ad1a",
   "metadata": {},
   "outputs": [
    {
     "data": {
      "text/plain": [
       "'40'"
      ]
     },
     "execution_count": 49,
     "metadata": {},
     "output_type": "execute_result"
    }
   ],
   "source": [
    "kullanicininYasi"
   ]
  },
  {
   "cell_type": "code",
   "execution_count": 50,
   "id": "cd61773d",
   "metadata": {},
   "outputs": [
    {
     "data": {
      "text/plain": [
       "str"
      ]
     },
     "execution_count": 50,
     "metadata": {},
     "output_type": "execute_result"
    }
   ],
   "source": [
    "type(kullanicininYasi)"
   ]
  },
  {
   "cell_type": "code",
   "execution_count": 51,
   "id": "c4e41b69",
   "metadata": {},
   "outputs": [
    {
     "data": {
      "text/plain": [
       "'4040404040'"
      ]
     },
     "execution_count": 51,
     "metadata": {},
     "output_type": "execute_result"
    }
   ],
   "source": [
    "kullanicininYasi * 5"
   ]
  },
  {
   "cell_type": "markdown",
   "id": "69387d82",
   "metadata": {},
   "source": [
    "Girilen değer program tarafından bir metin yani string olarak algılanıyor."
   ]
  },
  {
   "cell_type": "markdown",
   "id": "ecc99aa6",
   "metadata": {},
   "source": [
    "## String"
   ]
  },
  {
   "cell_type": "code",
   "execution_count": 64,
   "id": "e1c21bd4",
   "metadata": {},
   "outputs": [],
   "source": [
    "a = \"Ömerinyeri\""
   ]
  },
  {
   "cell_type": "code",
   "execution_count": 65,
   "id": "19864e1f",
   "metadata": {},
   "outputs": [
    {
     "data": {
      "text/plain": [
       "'Ömerinyeri'"
      ]
     },
     "execution_count": 65,
     "metadata": {},
     "output_type": "execute_result"
    }
   ],
   "source": [
    "a"
   ]
  },
  {
   "cell_type": "code",
   "execution_count": 54,
   "id": "df0c4767",
   "metadata": {},
   "outputs": [
    {
     "data": {
      "text/plain": [
       "str"
      ]
     },
     "execution_count": 54,
     "metadata": {},
     "output_type": "execute_result"
    }
   ],
   "source": [
    "type(a)"
   ]
  },
  {
   "cell_type": "code",
   "execution_count": 55,
   "id": "c99a1b9e",
   "metadata": {},
   "outputs": [
    {
     "name": "stdout",
     "output_type": "stream",
     "text": [
      "Yaşınızı giriniz : 33\n"
     ]
    }
   ],
   "source": [
    "kullaniciYasi = input(\"Yaşınızı giriniz : \")"
   ]
  },
  {
   "cell_type": "code",
   "execution_count": 56,
   "id": "ff6ca26f",
   "metadata": {},
   "outputs": [
    {
     "data": {
      "text/plain": [
       "'33'"
      ]
     },
     "execution_count": 56,
     "metadata": {},
     "output_type": "execute_result"
    }
   ],
   "source": [
    "kullaniciYasi"
   ]
  },
  {
   "cell_type": "code",
   "execution_count": 57,
   "id": "5e7638ce",
   "metadata": {},
   "outputs": [
    {
     "data": {
      "text/plain": [
       "str"
      ]
     },
     "execution_count": 57,
     "metadata": {},
     "output_type": "execute_result"
    }
   ],
   "source": [
    "type(kullaniciYasi)"
   ]
  },
  {
   "cell_type": "code",
   "execution_count": 58,
   "id": "2f18ed8d",
   "metadata": {},
   "outputs": [],
   "source": [
    "kullaniciIntYasi = int(kullaniciYasi)"
   ]
  },
  {
   "cell_type": "code",
   "execution_count": 59,
   "id": "81938360",
   "metadata": {},
   "outputs": [
    {
     "data": {
      "text/plain": [
       "33"
      ]
     },
     "execution_count": 59,
     "metadata": {},
     "output_type": "execute_result"
    }
   ],
   "source": [
    "kullaniciIntYasi"
   ]
  },
  {
   "cell_type": "code",
   "execution_count": 60,
   "id": "73cd431d",
   "metadata": {},
   "outputs": [
    {
     "data": {
      "text/plain": [
       "int"
      ]
     },
     "execution_count": 60,
     "metadata": {},
     "output_type": "execute_result"
    }
   ],
   "source": [
    "type(kullaniciIntYasi)"
   ]
  },
  {
   "cell_type": "code",
   "execution_count": 61,
   "id": "6405ebd0",
   "metadata": {},
   "outputs": [
    {
     "data": {
      "text/plain": [
       "166.5"
      ]
     },
     "execution_count": 61,
     "metadata": {},
     "output_type": "execute_result"
    }
   ],
   "source": [
    "kullaniciIntYasi * 5 + 3 / 2"
   ]
  },
  {
   "cell_type": "code",
   "execution_count": 66,
   "id": "1461c6ab",
   "metadata": {},
   "outputs": [
    {
     "data": {
      "text/plain": [
       "10"
      ]
     },
     "execution_count": 66,
     "metadata": {},
     "output_type": "execute_result"
    }
   ],
   "source": [
    "len(a)"
   ]
  },
  {
   "cell_type": "markdown",
   "id": "a27b51b7",
   "metadata": {},
   "source": [
    "\" len \" komutu string ifadenin kaç karakterden oluştuğunu gösterir."
   ]
  },
  {
   "cell_type": "code",
   "execution_count": 71,
   "id": "5c39f8fe",
   "metadata": {},
   "outputs": [
    {
     "name": "stdout",
     "output_type": "stream",
     "text": [
      "merhaba \n",
      "dünya\n"
     ]
    }
   ],
   "source": [
    "print (\"merhaba \\ndünya\")"
   ]
  },
  {
   "cell_type": "markdown",
   "id": "1126c092",
   "metadata": {},
   "source": [
    "\" \\n \" komutu bir alt satıra yazdırmayı sağlar."
   ]
  },
  {
   "cell_type": "markdown",
   "id": "6d841be6",
   "metadata": {},
   "source": [
    "## INDEX"
   ]
  },
  {
   "cell_type": "code",
   "execution_count": 1,
   "id": "2c3b5bc6",
   "metadata": {},
   "outputs": [],
   "source": [
    "isimString = \"Ömerin Yeri\""
   ]
  },
  {
   "cell_type": "code",
   "execution_count": 2,
   "id": "00266c72",
   "metadata": {},
   "outputs": [
    {
     "data": {
      "text/plain": [
       "'r'"
      ]
     },
     "execution_count": 2,
     "metadata": {},
     "output_type": "execute_result"
    }
   ],
   "source": [
    "isimString[3]"
   ]
  },
  {
   "cell_type": "markdown",
   "id": "9c16cfc3",
   "metadata": {},
   "source": [
    "Karakterler 0'dan başlar.Hangi sayıyı yazarsak o sayıdaki karakteri gösterir."
   ]
  },
  {
   "cell_type": "code",
   "execution_count": 4,
   "id": "779b6eae",
   "metadata": {},
   "outputs": [
    {
     "data": {
      "text/plain": [
       "' '"
      ]
     },
     "execution_count": 4,
     "metadata": {},
     "output_type": "execute_result"
    }
   ],
   "source": [
    "isimString[6]"
   ]
  },
  {
   "cell_type": "markdown",
   "id": "bfd13a6a",
   "metadata": {},
   "source": [
    "Boşluk da bir karakterdir."
   ]
  },
  {
   "cell_type": "code",
   "execution_count": 5,
   "id": "7b14d50b",
   "metadata": {},
   "outputs": [
    {
     "data": {
      "text/plain": [
       "'erin Yeri'"
      ]
     },
     "execution_count": 5,
     "metadata": {},
     "output_type": "execute_result"
    }
   ],
   "source": [
    "isimString[2:]"
   ]
  },
  {
   "cell_type": "markdown",
   "id": "f4fc7bf5",
   "metadata": {},
   "source": [
    "[x:] bu ifade ilk x karakteri alma diğerlerini göster demektir."
   ]
  },
  {
   "cell_type": "code",
   "execution_count": 6,
   "id": "42107613",
   "metadata": {},
   "outputs": [
    {
     "data": {
      "text/plain": [
       "'Öm'"
      ]
     },
     "execution_count": 6,
     "metadata": {},
     "output_type": "execute_result"
    }
   ],
   "source": [
    "isimString[:2]"
   ]
  },
  {
   "cell_type": "markdown",
   "id": "d021dca4",
   "metadata": {},
   "source": [
    "[:x] bu ifade ilk x karakteri göster diğerlerini gösterme demektir."
   ]
  },
  {
   "cell_type": "code",
   "execution_count": 7,
   "id": "fb238650",
   "metadata": {},
   "outputs": [
    {
     "data": {
      "text/plain": [
       "'meri'"
      ]
     },
     "execution_count": 7,
     "metadata": {},
     "output_type": "execute_result"
    }
   ],
   "source": [
    "isimString[1:5]"
   ]
  },
  {
   "cell_type": "code",
   "execution_count": 9,
   "id": "8107c4e4",
   "metadata": {},
   "outputs": [
    {
     "data": {
      "text/plain": [
       "'mrnY'"
      ]
     },
     "execution_count": 9,
     "metadata": {},
     "output_type": "execute_result"
    }
   ],
   "source": [
    "isimString[1:9:2]"
   ]
  },
  {
   "cell_type": "markdown",
   "id": "cbbfc9cd",
   "metadata": {},
   "source": [
    "[::x] bu ifade her x karakterde bir göster demektir."
   ]
  },
  {
   "cell_type": "code",
   "execution_count": 18,
   "id": "282ecbb2",
   "metadata": {},
   "outputs": [
    {
     "data": {
      "text/plain": [
       "'Ömerin '"
      ]
     },
     "execution_count": 18,
     "metadata": {},
     "output_type": "execute_result"
    }
   ],
   "source": [
    "isimString[:-4]"
   ]
  },
  {
   "cell_type": "markdown",
   "id": "bb640088",
   "metadata": {},
   "source": [
    "Sondan 4 karakteri gösterme demektir."
   ]
  },
  {
   "cell_type": "code",
   "execution_count": 19,
   "id": "826d0522",
   "metadata": {},
   "outputs": [
    {
     "data": {
      "text/plain": [
       "'ri'"
      ]
     },
     "execution_count": 19,
     "metadata": {},
     "output_type": "execute_result"
    }
   ],
   "source": [
    "isimString[-2:]"
   ]
  },
  {
   "cell_type": "markdown",
   "id": "3ad22752",
   "metadata": {},
   "source": [
    "Sondan 2 karakteri göster demektir"
   ]
  },
  {
   "cell_type": "markdown",
   "id": "eb5fa379",
   "metadata": {},
   "source": [
    "## Slicing"
   ]
  },
  {
   "cell_type": "code",
   "execution_count": 26,
   "id": "9e182984",
   "metadata": {},
   "outputs": [],
   "source": [
    "benimIsmim = \"ömer faruk güven\""
   ]
  },
  {
   "cell_type": "code",
   "execution_count": 21,
   "id": "12c4e8ab",
   "metadata": {},
   "outputs": [
    {
     "data": {
      "text/plain": [
       "'Ömer faruk güven'"
      ]
     },
     "execution_count": 21,
     "metadata": {},
     "output_type": "execute_result"
    }
   ],
   "source": [
    "benimIsmim.capitalize()"
   ]
  },
  {
   "cell_type": "markdown",
   "id": "45435dcc",
   "metadata": {},
   "source": [
    "\" capitalize \" komutu ilk harfi büyütmek için kullanılır."
   ]
  },
  {
   "cell_type": "code",
   "execution_count": 22,
   "id": "16e6b67d",
   "metadata": {},
   "outputs": [
    {
     "data": {
      "text/plain": [
       "'ÖMER FARUK GÜVEN'"
      ]
     },
     "execution_count": 22,
     "metadata": {},
     "output_type": "execute_result"
    }
   ],
   "source": [
    "benimIsmim.upper()"
   ]
  },
  {
   "cell_type": "markdown",
   "id": "71108a42",
   "metadata": {},
   "source": [
    "\" upper \" komutu bütün harfleri büyütmek için kullanılır."
   ]
  },
  {
   "cell_type": "code",
   "execution_count": 27,
   "id": "c1d1e686",
   "metadata": {},
   "outputs": [
    {
     "data": {
      "text/plain": [
       "['ömer', 'faruk', 'güven']"
      ]
     },
     "execution_count": 27,
     "metadata": {},
     "output_type": "execute_result"
    }
   ],
   "source": [
    "benimIsmim.split()"
   ]
  },
  {
   "cell_type": "markdown",
   "id": "4a17167d",
   "metadata": {},
   "source": [
    "\" split \" komutu ayrı ayrı listelemek için kullanılır."
   ]
  },
  {
   "cell_type": "code",
   "execution_count": 28,
   "id": "41f6d9f0",
   "metadata": {},
   "outputs": [
    {
     "data": {
      "text/plain": [
       "'ömer faruk güvendir'"
      ]
     },
     "execution_count": 28,
     "metadata": {},
     "output_type": "execute_result"
    }
   ],
   "source": [
    "benimIsmim + \"dir\""
   ]
  },
  {
   "cell_type": "code",
   "execution_count": null,
   "id": "b3dae14a",
   "metadata": {},
   "outputs": [],
   "source": []
  }
 ],
 "metadata": {
  "kernelspec": {
   "display_name": "Python 3 (ipykernel)",
   "language": "python",
   "name": "python3"
  },
  "language_info": {
   "codemirror_mode": {
    "name": "ipython",
    "version": 3
   },
   "file_extension": ".py",
   "mimetype": "text/x-python",
   "name": "python",
   "nbconvert_exporter": "python",
   "pygments_lexer": "ipython3",
   "version": "3.9.13"
  }
 },
 "nbformat": 4,
 "nbformat_minor": 5
}
