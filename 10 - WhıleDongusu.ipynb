{
 "cells": [
  {
   "cell_type": "code",
   "execution_count": 1,
   "id": "8afdac2f",
   "metadata": {},
   "outputs": [
    {
     "name": "stdout",
     "output_type": "stream",
     "text": [
      "0\n",
      "1\n",
      "2\n",
      "3\n",
      "4\n"
     ]
    }
   ],
   "source": [
    "x = 0\n",
    "while x < 5:\n",
    "    print(x)\n",
    "    x = x + 1"
   ]
  },
  {
   "cell_type": "code",
   "execution_count": 2,
   "id": "3579cb37",
   "metadata": {},
   "outputs": [],
   "source": [
    "benimListem = [1,2,3,4,5,]"
   ]
  },
  {
   "cell_type": "code",
   "execution_count": 3,
   "id": "850c0d20",
   "metadata": {},
   "outputs": [
    {
     "name": "stdout",
     "output_type": "stream",
     "text": [
      "3 hala listede\n",
      "3 hala listede\n",
      "3 hala listede\n"
     ]
    }
   ],
   "source": [
    "while 3 in benimListem:\n",
    "    print(\"3 hala listede\")\n",
    "    benimListem.pop()"
   ]
  },
  {
   "cell_type": "code",
   "execution_count": 5,
   "id": "03964e08",
   "metadata": {},
   "outputs": [
    {
     "name": "stdout",
     "output_type": "stream",
     "text": [
      "0\n",
      "1\n",
      "2\n",
      "3\n"
     ]
    }
   ],
   "source": [
    "sayı = 0\n",
    "while sayı < 5:\n",
    "    if sayı == 4:\n",
    "        break\n",
    "    print(sayı)\n",
    "    sayı = sayı+1"
   ]
  },
  {
   "cell_type": "code",
   "execution_count": 6,
   "id": "7b945f9b",
   "metadata": {},
   "outputs": [
    {
     "name": "stdout",
     "output_type": "stream",
     "text": [
      "degiskenin güncel değeri: 0\n",
      "degiskenin güncel değeri: 1\n",
      "degiskenin güncel değeri: 2\n",
      "degiskenin güncel değeri: 3\n",
      "degiskenin güncel değeri: 4\n",
      "degiskenin güncel değeri: 5\n",
      "degiskenin güncel değeri: 6\n",
      "degiskenin güncel değeri: 7\n",
      "degiskenin güncel değeri: 8\n",
      "degiskenin güncel değeri: 9\n",
      "degiskenin güncel değeri: 10\n",
      "degiskenin güncel değeri: 11\n",
      "degiskenin güncel değeri: 12\n",
      "degiskenin güncel değeri: 13\n",
      "degiskenin güncel değeri: 14\n"
     ]
    }
   ],
   "source": [
    "degisken = 0 \n",
    "while degisken < 15:\n",
    "    print(\"degiskenin güncel değeri: \" + str(degisken))\n",
    "    degisken = degisken + 1"
   ]
  },
  {
   "cell_type": "code",
   "execution_count": 2,
   "id": "ab905d83",
   "metadata": {},
   "outputs": [
    {
     "name": "stdout",
     "output_type": "stream",
     "text": [
      "rakamın güncel degeri: 0\n",
      "rakamın güncel degeri: 1\n",
      "rakamın güncel degeri: 2\n",
      "rakamın güncel degeri: 3\n",
      "rakamın güncel degeri: 4\n"
     ]
    }
   ],
   "source": [
    "rakam = 0\n",
    "while rakam < 5:\n",
    "    print(f\"rakamın güncel degeri: {rakam}\")\n",
    "    rakam = rakam + 1"
   ]
  },
  {
   "cell_type": "code",
   "execution_count": null,
   "id": "f541e6d4",
   "metadata": {},
   "outputs": [],
   "source": []
  }
 ],
 "metadata": {
  "kernelspec": {
   "display_name": "Python 3 (ipykernel)",
   "language": "python",
   "name": "python3"
  },
  "language_info": {
   "codemirror_mode": {
    "name": "ipython",
    "version": 3
   },
   "file_extension": ".py",
   "mimetype": "text/x-python",
   "name": "python",
   "nbconvert_exporter": "python",
   "pygments_lexer": "ipython3",
   "version": "3.9.13"
  }
 },
 "nbformat": 4,
 "nbformat_minor": 5
}
