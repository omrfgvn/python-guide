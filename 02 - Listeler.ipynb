{
 "cells": [
  {
   "cell_type": "code",
   "execution_count": 1,
   "id": "acec5ea8",
   "metadata": {},
   "outputs": [],
   "source": [
    "isimString = \"Ömer\""
   ]
  },
  {
   "cell_type": "code",
   "execution_count": 2,
   "id": "98d2ad61",
   "metadata": {},
   "outputs": [
    {
     "data": {
      "text/plain": [
       "'m'"
      ]
     },
     "execution_count": 2,
     "metadata": {},
     "output_type": "execute_result"
    }
   ],
   "source": [
    "isimString[1]"
   ]
  },
  {
   "cell_type": "markdown",
   "id": "83502fb3",
   "metadata": {},
   "source": [
    "isimString[1] = \"c\"  bu şekilde karakter değişimi string ifadede yapamıyoruz.Hata verir."
   ]
  },
  {
   "cell_type": "code",
   "execution_count": 3,
   "id": "41e8904e",
   "metadata": {},
   "outputs": [],
   "source": [
    "benimListem = [10,20,30,40]"
   ]
  },
  {
   "cell_type": "code",
   "execution_count": 4,
   "id": "43c25f11",
   "metadata": {},
   "outputs": [
    {
     "data": {
      "text/plain": [
       "[10, 20, 30, 40]"
      ]
     },
     "execution_count": 4,
     "metadata": {},
     "output_type": "execute_result"
    }
   ],
   "source": [
    "benimListem"
   ]
  },
  {
   "cell_type": "code",
   "execution_count": 5,
   "id": "4abc3378",
   "metadata": {},
   "outputs": [
    {
     "data": {
      "text/plain": [
       "list"
      ]
     },
     "execution_count": 5,
     "metadata": {},
     "output_type": "execute_result"
    }
   ],
   "source": [
    "type(benimListem)"
   ]
  },
  {
   "cell_type": "code",
   "execution_count": 6,
   "id": "d13b7bd0",
   "metadata": {},
   "outputs": [
    {
     "data": {
      "text/plain": [
       "30"
      ]
     },
     "execution_count": 6,
     "metadata": {},
     "output_type": "execute_result"
    }
   ],
   "source": [
    "benimListem[2]"
   ]
  },
  {
   "cell_type": "code",
   "execution_count": 7,
   "id": "7a70e5ed",
   "metadata": {},
   "outputs": [],
   "source": [
    "benimListem[0] = 230"
   ]
  },
  {
   "cell_type": "code",
   "execution_count": 13,
   "id": "c3645881",
   "metadata": {},
   "outputs": [
    {
     "data": {
      "text/plain": [
       "[230, 20, 30, 40, 221]"
      ]
     },
     "execution_count": 13,
     "metadata": {},
     "output_type": "execute_result"
    }
   ],
   "source": [
    "benimListem"
   ]
  },
  {
   "cell_type": "markdown",
   "id": "20896230",
   "metadata": {},
   "source": [
    "Listeleme yaparken değişken değişimi yapabiliyoruz."
   ]
  },
  {
   "cell_type": "code",
   "execution_count": 8,
   "id": "402dad68",
   "metadata": {},
   "outputs": [],
   "source": [
    "benimListem.append(221)"
   ]
  },
  {
   "cell_type": "code",
   "execution_count": 10,
   "id": "62aa2c36",
   "metadata": {},
   "outputs": [
    {
     "data": {
      "text/plain": [
       "[230, 20, 30, 40, 221]"
      ]
     },
     "execution_count": 10,
     "metadata": {},
     "output_type": "execute_result"
    }
   ],
   "source": [
    "benimListem"
   ]
  },
  {
   "cell_type": "markdown",
   "id": "2e1e4f40",
   "metadata": {},
   "source": [
    "\" append \" komutu değişken ekleme imkanı verir."
   ]
  },
  {
   "cell_type": "code",
   "execution_count": 11,
   "id": "bc97b4d7",
   "metadata": {},
   "outputs": [
    {
     "data": {
      "text/plain": [
       "221"
      ]
     },
     "execution_count": 11,
     "metadata": {},
     "output_type": "execute_result"
    }
   ],
   "source": [
    "benimListem.pop()"
   ]
  },
  {
   "cell_type": "code",
   "execution_count": 12,
   "id": "26ce9c50",
   "metadata": {},
   "outputs": [
    {
     "data": {
      "text/plain": [
       "[230, 20, 30, 40]"
      ]
     },
     "execution_count": 12,
     "metadata": {},
     "output_type": "execute_result"
    }
   ],
   "source": [
    "benimListem"
   ]
  },
  {
   "cell_type": "markdown",
   "id": "023b68d0",
   "metadata": {},
   "source": [
    "\" pop \" komutu listedeki son elemanı atmaya yarar."
   ]
  },
  {
   "cell_type": "code",
   "execution_count": 13,
   "id": "a015ea70",
   "metadata": {},
   "outputs": [],
   "source": [
    "benimListem.remove(20)"
   ]
  },
  {
   "cell_type": "code",
   "execution_count": 14,
   "id": "6062e569",
   "metadata": {},
   "outputs": [
    {
     "data": {
      "text/plain": [
       "[230, 30, 40]"
      ]
     },
     "execution_count": 14,
     "metadata": {},
     "output_type": "execute_result"
    }
   ],
   "source": [
    "benimListem"
   ]
  },
  {
   "cell_type": "markdown",
   "id": "38c7d7bc",
   "metadata": {},
   "source": [
    "\" remove \" komutu listedeki seçilen bir elemanı atmaya yarar."
   ]
  },
  {
   "cell_type": "code",
   "execution_count": 17,
   "id": "87c271cc",
   "metadata": {},
   "outputs": [],
   "source": [
    "benimListem.append(30)"
   ]
  },
  {
   "cell_type": "code",
   "execution_count": 18,
   "id": "53e6f35b",
   "metadata": {},
   "outputs": [
    {
     "data": {
      "text/plain": [
       "[230, 30, 40, 30, 30]"
      ]
     },
     "execution_count": 18,
     "metadata": {},
     "output_type": "execute_result"
    }
   ],
   "source": [
    "benimListem"
   ]
  },
  {
   "cell_type": "code",
   "execution_count": 19,
   "id": "6ca4c45a",
   "metadata": {},
   "outputs": [
    {
     "data": {
      "text/plain": [
       "3"
      ]
     },
     "execution_count": 19,
     "metadata": {},
     "output_type": "execute_result"
    }
   ],
   "source": [
    "benimListem.count(30)"
   ]
  },
  {
   "cell_type": "markdown",
   "id": "b41bedc2",
   "metadata": {},
   "source": [
    "\" count \" komutu belirtilen ifadenin listede kaç adet olduğunu gösterir."
   ]
  },
  {
   "cell_type": "code",
   "execution_count": 20,
   "id": "98d7c719",
   "metadata": {},
   "outputs": [],
   "source": [
    "benimStringListem = [\"omer\",\"emre\",\"mehmet\"]"
   ]
  },
  {
   "cell_type": "code",
   "execution_count": 21,
   "id": "f527a096",
   "metadata": {},
   "outputs": [
    {
     "data": {
      "text/plain": [
       "['omer', 'emre', 'mehmet']"
      ]
     },
     "execution_count": 21,
     "metadata": {},
     "output_type": "execute_result"
    }
   ],
   "source": [
    "benimStringListem"
   ]
  },
  {
   "cell_type": "code",
   "execution_count": 24,
   "id": "892b4c8f",
   "metadata": {},
   "outputs": [],
   "source": [
    "benimToplamaListem = benimListem + benimStringListem"
   ]
  },
  {
   "cell_type": "code",
   "execution_count": 25,
   "id": "0fbfa91c",
   "metadata": {},
   "outputs": [
    {
     "data": {
      "text/plain": [
       "[230, 30, 40, 30, 30, 'omer', 'emre', 'mehmet']"
      ]
     },
     "execution_count": 25,
     "metadata": {},
     "output_type": "execute_result"
    }
   ],
   "source": [
    "benimToplamaListem"
   ]
  },
  {
   "cell_type": "markdown",
   "id": "19fd7e59",
   "metadata": {},
   "source": [
    "Listeler string ifadeyle de yazılabilir.Ayrıca string liste ve int liste toplanabilir."
   ]
  },
  {
   "cell_type": "code",
   "execution_count": 26,
   "id": "d1c15f2a",
   "metadata": {},
   "outputs": [],
   "source": [
    "benimToplamaListem.reverse()"
   ]
  },
  {
   "cell_type": "code",
   "execution_count": 27,
   "id": "9eb11c86",
   "metadata": {},
   "outputs": [
    {
     "data": {
      "text/plain": [
       "['mehmet', 'emre', 'omer', 30, 30, 40, 30, 230]"
      ]
     },
     "execution_count": 27,
     "metadata": {},
     "output_type": "execute_result"
    }
   ],
   "source": [
    "benimToplamaListem"
   ]
  },
  {
   "cell_type": "markdown",
   "id": "4ca24e3f",
   "metadata": {},
   "source": [
    "\" reverse \" komutu listeyi baştan sona yer değiştirir."
   ]
  },
  {
   "cell_type": "code",
   "execution_count": 32,
   "id": "43c4fa9e",
   "metadata": {},
   "outputs": [],
   "source": [
    "nestedList = [1,5,\"atıl\",[2,\"omer\"]]"
   ]
  },
  {
   "cell_type": "code",
   "execution_count": 33,
   "id": "e4a0c13f",
   "metadata": {},
   "outputs": [
    {
     "data": {
      "text/plain": [
       "[2, 'omer']"
      ]
     },
     "execution_count": 33,
     "metadata": {},
     "output_type": "execute_result"
    }
   ],
   "source": [
    "nestedList[3]"
   ]
  },
  {
   "cell_type": "code",
   "execution_count": 35,
   "id": "51f91ec4",
   "metadata": {},
   "outputs": [
    {
     "data": {
      "text/plain": [
       "'omer'"
      ]
     },
     "execution_count": 35,
     "metadata": {},
     "output_type": "execute_result"
    }
   ],
   "source": [
    "nestedList[3][1]"
   ]
  },
  {
   "cell_type": "code",
   "execution_count": 37,
   "id": "84fb99f5",
   "metadata": {},
   "outputs": [],
   "source": [
    "karısıkListe = [[1,\"omer\",[2,\"z\"]],\"ahmet\",2,[2,\"z\",[3,\"a\"]]]"
   ]
  },
  {
   "cell_type": "code",
   "execution_count": 38,
   "id": "bf372bf3",
   "metadata": {},
   "outputs": [
    {
     "data": {
      "text/plain": [
       "'a'"
      ]
     },
     "execution_count": 38,
     "metadata": {},
     "output_type": "execute_result"
    }
   ],
   "source": [
    "karısıkListe[3][2][1]"
   ]
  },
  {
   "cell_type": "code",
   "execution_count": 39,
   "id": "0bab9430",
   "metadata": {},
   "outputs": [
    {
     "data": {
      "text/plain": [
       "['atıl', [2, 'omer']]"
      ]
     },
     "execution_count": 39,
     "metadata": {},
     "output_type": "execute_result"
    }
   ],
   "source": [
    "nestedList[2:]"
   ]
  },
  {
   "cell_type": "code",
   "execution_count": 40,
   "id": "bab39485",
   "metadata": {},
   "outputs": [
    {
     "data": {
      "text/plain": [
       "[1]"
      ]
     },
     "execution_count": 40,
     "metadata": {},
     "output_type": "execute_result"
    }
   ],
   "source": [
    "nestedList[:1]"
   ]
  },
  {
   "cell_type": "code",
   "execution_count": null,
   "id": "4a90464d",
   "metadata": {},
   "outputs": [],
   "source": []
  }
 ],
 "metadata": {
  "kernelspec": {
   "display_name": "Python 3 (ipykernel)",
   "language": "python",
   "name": "python3"
  },
  "language_info": {
   "codemirror_mode": {
    "name": "ipython",
    "version": 3
   },
   "file_extension": ".py",
   "mimetype": "text/x-python",
   "name": "python",
   "nbconvert_exporter": "python",
   "pygments_lexer": "ipython3",
   "version": "3.9.13"
  }
 },
 "nbformat": 4,
 "nbformat_minor": 5
}
