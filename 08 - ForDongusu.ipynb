{
 "cells": [
  {
   "cell_type": "code",
   "execution_count": 9,
   "id": "fa577667",
   "metadata": {},
   "outputs": [],
   "source": [
    "benimListem = [1,22,30,40,50]"
   ]
  },
  {
   "cell_type": "code",
   "execution_count": 10,
   "id": "eef0a719",
   "metadata": {},
   "outputs": [
    {
     "name": "stdout",
     "output_type": "stream",
     "text": [
      "7\n",
      "49\n",
      "65\n",
      "85\n",
      "105\n"
     ]
    }
   ],
   "source": [
    "for numara in benimListem:\n",
    "    print(numara * 2 + 5)"
   ]
  },
  {
   "cell_type": "code",
   "execution_count": 11,
   "id": "6bfcccc3",
   "metadata": {},
   "outputs": [
    {
     "name": "stdout",
     "output_type": "stream",
     "text": [
      "2.2\n",
      "6.4\n",
      "8.0\n",
      "10.0\n",
      "12.0\n"
     ]
    }
   ],
   "source": [
    "for num in benimListem:\n",
    "    yeniNumara = num / 5 + 2\n",
    "    print(yeniNumara)"
   ]
  },
  {
   "cell_type": "code",
   "execution_count": 12,
   "id": "8a4213e8",
   "metadata": {},
   "outputs": [
    {
     "name": "stdout",
     "output_type": "stream",
     "text": [
      "22\n",
      "30\n",
      "40\n",
      "50\n"
     ]
    }
   ],
   "source": [
    "for num in benimListem:\n",
    "    if num % 2 == 0:\n",
    "        print(num)"
   ]
  },
  {
   "cell_type": "code",
   "execution_count": 13,
   "id": "fcfbd3b2",
   "metadata": {},
   "outputs": [],
   "source": [
    "benimTuple = (1,2,3,4,5)"
   ]
  },
  {
   "cell_type": "code",
   "execution_count": 15,
   "id": "33008d93",
   "metadata": {},
   "outputs": [
    {
     "name": "stdout",
     "output_type": "stream",
     "text": [
      "-4\n",
      "-3\n",
      "-2\n",
      "-1\n",
      "0\n"
     ]
    }
   ],
   "source": [
    "for rak in benimTuple:\n",
    "    print(rak - 5)"
   ]
  },
  {
   "cell_type": "code",
   "execution_count": 16,
   "id": "e4f2511f",
   "metadata": {},
   "outputs": [],
   "source": [
    "koordinatListesi = [(10,20),(30,40),(50,60)]"
   ]
  },
  {
   "cell_type": "code",
   "execution_count": 21,
   "id": "fd7db114",
   "metadata": {},
   "outputs": [
    {
     "name": "stdout",
     "output_type": "stream",
     "text": [
      "(10, 20)\n",
      "(30, 40)\n",
      "(50, 60)\n"
     ]
    }
   ],
   "source": [
    "for ag in koordinatListesi:\n",
    "    print(ag)"
   ]
  },
  {
   "cell_type": "code",
   "execution_count": 22,
   "id": "c3d23613",
   "metadata": {},
   "outputs": [
    {
     "name": "stdout",
     "output_type": "stream",
     "text": [
      "10\n",
      "30\n",
      "50\n"
     ]
    }
   ],
   "source": [
    "for (x,y) in koordinatListesi:\n",
    "    print(x)"
   ]
  },
  {
   "cell_type": "code",
   "execution_count": 23,
   "id": "246e7652",
   "metadata": {},
   "outputs": [],
   "source": [
    "karisikListe = [(1,2,3),(4,5,6),(7,8,9)]"
   ]
  },
  {
   "cell_type": "code",
   "execution_count": 24,
   "id": "963b2328",
   "metadata": {},
   "outputs": [
    {
     "name": "stdout",
     "output_type": "stream",
     "text": [
      "3\n",
      "6\n",
      "9\n"
     ]
    }
   ],
   "source": [
    "for (x,y,z) in karisikListe:\n",
    "    print(z)"
   ]
  },
  {
   "cell_type": "code",
   "execution_count": 25,
   "id": "d2f44711",
   "metadata": {},
   "outputs": [],
   "source": [
    "benimSozluk = {\"muz\":100,\"elma\":200,\"armut\":300}"
   ]
  },
  {
   "cell_type": "code",
   "execution_count": 26,
   "id": "1d3b055b",
   "metadata": {},
   "outputs": [
    {
     "name": "stdout",
     "output_type": "stream",
     "text": [
      "('muz', 100)\n",
      "('elma', 200)\n",
      "('armut', 300)\n"
     ]
    }
   ],
   "source": [
    "for a in benimSozluk.items():\n",
    "    print(a)"
   ]
  },
  {
   "cell_type": "code",
   "execution_count": 30,
   "id": "4c1d85fe",
   "metadata": {},
   "outputs": [
    {
     "name": "stdout",
     "output_type": "stream",
     "text": [
      "muz\n",
      "elma\n",
      "armut\n"
     ]
    }
   ],
   "source": [
    "for b in benimSozluk.keys():\n",
    "    print(b)"
   ]
  },
  {
   "cell_type": "code",
   "execution_count": 31,
   "id": "846770de",
   "metadata": {},
   "outputs": [
    {
     "name": "stdout",
     "output_type": "stream",
     "text": [
      "100\n",
      "200\n",
      "300\n"
     ]
    }
   ],
   "source": [
    "for c in benimSozluk.values():\n",
    "    print(c)"
   ]
  },
  {
   "cell_type": "code",
   "execution_count": null,
   "id": "c6ef4890",
   "metadata": {},
   "outputs": [],
   "source": []
  }
 ],
 "metadata": {
  "kernelspec": {
   "display_name": "Python 3 (ipykernel)",
   "language": "python",
   "name": "python3"
  },
  "language_info": {
   "codemirror_mode": {
    "name": "ipython",
    "version": 3
   },
   "file_extension": ".py",
   "mimetype": "text/x-python",
   "name": "python",
   "nbconvert_exporter": "python",
   "pygments_lexer": "ipython3",
   "version": "3.9.13"
  }
 },
 "nbformat": 4,
 "nbformat_minor": 5
}
