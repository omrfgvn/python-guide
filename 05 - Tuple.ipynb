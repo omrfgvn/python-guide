{
 "cells": [
  {
   "cell_type": "code",
   "execution_count": 1,
   "id": "73a8a344",
   "metadata": {},
   "outputs": [],
   "source": [
    "benimListem = [1,2,3,\"a\"]"
   ]
  },
  {
   "cell_type": "code",
   "execution_count": 2,
   "id": "39e4d02e",
   "metadata": {},
   "outputs": [
    {
     "data": {
      "text/plain": [
       "'a'"
      ]
     },
     "execution_count": 2,
     "metadata": {},
     "output_type": "execute_result"
    }
   ],
   "source": [
    "benimListem[3]"
   ]
  },
  {
   "cell_type": "code",
   "execution_count": 3,
   "id": "7c63fd9a",
   "metadata": {},
   "outputs": [],
   "source": [
    "benimListem[3] = \"b\""
   ]
  },
  {
   "cell_type": "code",
   "execution_count": 5,
   "id": "7f4c08b9",
   "metadata": {},
   "outputs": [
    {
     "data": {
      "text/plain": [
       "[1, 2, 3, 'b']"
      ]
     },
     "execution_count": 5,
     "metadata": {},
     "output_type": "execute_result"
    }
   ],
   "source": [
    "benimListem"
   ]
  },
  {
   "cell_type": "markdown",
   "id": "5f2c2065",
   "metadata": {},
   "source": [
    "Liste formatında elemanlar değiştirilebilir."
   ]
  },
  {
   "cell_type": "code",
   "execution_count": 6,
   "id": "ac954806",
   "metadata": {},
   "outputs": [],
   "source": [
    "benimTuple = (1,2,3,\"a\")"
   ]
  },
  {
   "cell_type": "code",
   "execution_count": 7,
   "id": "5be45271",
   "metadata": {},
   "outputs": [
    {
     "data": {
      "text/plain": [
       "3"
      ]
     },
     "execution_count": 7,
     "metadata": {},
     "output_type": "execute_result"
    }
   ],
   "source": [
    "benimTuple[2]"
   ]
  },
  {
   "cell_type": "markdown",
   "id": "f9ec3153",
   "metadata": {},
   "source": [
    "benimTuple[2] = 3 bu işlem gerçekleştirilmez hata verir.Tuple formatında elemanlar değiştirilemez."
   ]
  },
  {
   "cell_type": "code",
   "execution_count": 10,
   "id": "1dd45ae5",
   "metadata": {},
   "outputs": [
    {
     "data": {
      "text/plain": [
       "2"
      ]
     },
     "execution_count": 10,
     "metadata": {},
     "output_type": "execute_result"
    }
   ],
   "source": [
    "benimTuple.index(3)"
   ]
  },
  {
   "cell_type": "markdown",
   "id": "929923cd",
   "metadata": {},
   "source": [
    "Girilen elemanın index numarasını gösterir."
   ]
  }
 ],
 "metadata": {
  "kernelspec": {
   "display_name": "Python 3 (ipykernel)",
   "language": "python",
   "name": "python3"
  },
  "language_info": {
   "codemirror_mode": {
    "name": "ipython",
    "version": 3
   },
   "file_extension": ".py",
   "mimetype": "text/x-python",
   "name": "python",
   "nbconvert_exporter": "python",
   "pygments_lexer": "ipython3",
   "version": "3.9.13"
  }
 },
 "nbformat": 4,
 "nbformat_minor": 5
}
