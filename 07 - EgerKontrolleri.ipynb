{
 "cells": [
  {
   "cell_type": "code",
   "execution_count": 2,
   "id": "9af71252",
   "metadata": {},
   "outputs": [
    {
     "name": "stdout",
     "output_type": "stream",
     "text": [
      "3 1'den büyüktür\n",
      "omer\n"
     ]
    }
   ],
   "source": [
    "if 3 > 1:\n",
    "    print(\"3 1'den büyüktür\")\n",
    "print(\"omer\")"
   ]
  },
  {
   "cell_type": "code",
   "execution_count": 4,
   "id": "aa220780",
   "metadata": {},
   "outputs": [
    {
     "name": "stdout",
     "output_type": "stream",
     "text": [
      "omer\n"
     ]
    }
   ],
   "source": [
    "if 3 < 1:\n",
    "    print(\"3 1'den küçüktür\")\n",
    "print(\"omer\")"
   ]
  },
  {
   "cell_type": "markdown",
   "id": "150ff770",
   "metadata": {},
   "source": [
    "tab kadar boşluk olduğunda if bloğunun içinde olmuş oluyoruz.Print ile başlayan ifade if bloğunun dışındadır."
   ]
  },
  {
   "cell_type": "code",
   "execution_count": 5,
   "id": "3d36443b",
   "metadata": {},
   "outputs": [],
   "source": [
    "x = 3"
   ]
  },
  {
   "cell_type": "code",
   "execution_count": 6,
   "id": "821378a5",
   "metadata": {},
   "outputs": [],
   "source": [
    "y = 5"
   ]
  },
  {
   "cell_type": "code",
   "execution_count": 9,
   "id": "d4a5efe2",
   "metadata": {},
   "outputs": [
    {
     "name": "stdout",
     "output_type": "stream",
     "text": [
      "y x'den büyükmüş\n"
     ]
    }
   ],
   "source": [
    "if x > y:\n",
    "    print(\"x y'den büyüktür.\")\n",
    "elif y > x:\n",
    "    print(\"y x'den büyükmüş\")"
   ]
  },
  {
   "cell_type": "code",
   "execution_count": 10,
   "id": "2a36a3b0",
   "metadata": {},
   "outputs": [],
   "source": [
    "x = 4\n",
    "y = 4"
   ]
  },
  {
   "cell_type": "code",
   "execution_count": 12,
   "id": "7221145e",
   "metadata": {},
   "outputs": [
    {
     "name": "stdout",
     "output_type": "stream",
     "text": [
      "y x'e eşitmiş\n"
     ]
    }
   ],
   "source": [
    "if x > y:\n",
    "    print(\"x y'den büyüktür.\")\n",
    "elif y > x:\n",
    "    print(\"y x'den büyükmüş\")\n",
    "else:\n",
    "    print(\"y x'e eşitmiş\")"
   ]
  },
  {
   "cell_type": "code",
   "execution_count": 17,
   "id": "121739fe",
   "metadata": {},
   "outputs": [
    {
     "name": "stdout",
     "output_type": "stream",
     "text": [
      "Kahramanınızı seçiniz: iron man\n"
     ]
    }
   ],
   "source": [
    "benimKahramanim = input(\"Kahramanınızı seçiniz: \")"
   ]
  },
  {
   "cell_type": "code",
   "execution_count": 18,
   "id": "94559d8d",
   "metadata": {},
   "outputs": [
    {
     "name": "stdout",
     "output_type": "stream",
     "text": [
      "Bu kahraman bulunamadı\n"
     ]
    }
   ],
   "source": [
    "if benimKahramanim == \"Spider Man\":\n",
    "    print(\"Doğru bir tercih\")\n",
    "elif benimKahramanim == \"Batman\":\n",
    "    print(\"Spider Man'i seçmeliydin\")\n",
    "else:\n",
    "    print(\"Bu kahraman bulunamadı\")"
   ]
  },
  {
   "cell_type": "code",
   "execution_count": 19,
   "id": "6d72d965",
   "metadata": {},
   "outputs": [],
   "source": [
    "a = 2 \n",
    "b = 3\n",
    "c = 1"
   ]
  },
  {
   "cell_type": "code",
   "execution_count": 21,
   "id": "5e6fb8dd",
   "metadata": {},
   "outputs": [
    {
     "name": "stdout",
     "output_type": "stream",
     "text": [
      "a b'den küçüktür\n"
     ]
    }
   ],
   "source": [
    "if a < b and a < c:\n",
    "    print(\"a ,b ve c'den küçüktür \")\n",
    "elif a < b or a < c:\n",
    "    print(\"a b'den küçüktür\")"
   ]
  },
  {
   "cell_type": "code",
   "execution_count": 22,
   "id": "75a43fe1",
   "metadata": {},
   "outputs": [],
   "source": [
    "t = 2\n",
    "k = 3\n",
    "l = 12"
   ]
  },
  {
   "cell_type": "code",
   "execution_count": 25,
   "id": "6f1a1b65",
   "metadata": {},
   "outputs": [
    {
     "name": "stdout",
     "output_type": "stream",
     "text": [
      "İstenilen koşullar sağlanamadı\n"
     ]
    }
   ],
   "source": [
    "if t < k and t > l:\n",
    "    print(\"t k'den küçük l'den büyüktür\")\n",
    "elif k < t and k > l:\n",
    "    print(\"k t'den küçük l'den büyüktür\")\n",
    "else:\n",
    "    print(\"İstenilen koşullar sağlanamadı\")"
   ]
  },
  {
   "cell_type": "code",
   "execution_count": 29,
   "id": "eed560c6",
   "metadata": {},
   "outputs": [],
   "source": [
    "karakterCanli = False"
   ]
  },
  {
   "cell_type": "code",
   "execution_count": 30,
   "id": "05cddfed",
   "metadata": {},
   "outputs": [
    {
     "name": "stdout",
     "output_type": "stream",
     "text": [
      "karakter yaşamıyor\n"
     ]
    }
   ],
   "source": [
    "if karakterCanli == True:\n",
    "    print(\"karakter yaşıyor\")\n",
    "else:\n",
    "    print(\"karakter yaşamıyor\")"
   ]
  },
  {
   "cell_type": "code",
   "execution_count": 31,
   "id": "6e861fdb",
   "metadata": {},
   "outputs": [
    {
     "name": "stdout",
     "output_type": "stream",
     "text": [
      "karakter yaşamıyor\n"
     ]
    }
   ],
   "source": [
    "if karakterCanli:\n",
    "    print(\"karakter yaşıyor\")\n",
    "else:\n",
    "    print(\"karakter yaşamıyor\")"
   ]
  },
  {
   "cell_type": "code",
   "execution_count": 32,
   "id": "ac1065dc",
   "metadata": {},
   "outputs": [],
   "source": [
    "benimString = \"Omer Guven\""
   ]
  },
  {
   "cell_type": "code",
   "execution_count": 34,
   "id": "67ea0a90",
   "metadata": {},
   "outputs": [
    {
     "name": "stdout",
     "output_type": "stream",
     "text": [
      "yanlış\n"
     ]
    }
   ],
   "source": [
    "if benimString == \"omer Guven\":\n",
    "    print(\"doğru\")\n",
    "else:\n",
    "    print(\"yanlış\")"
   ]
  },
  {
   "cell_type": "code",
   "execution_count": 35,
   "id": "fd72b103",
   "metadata": {},
   "outputs": [
    {
     "name": "stdout",
     "output_type": "stream",
     "text": [
      "doğru\n"
     ]
    }
   ],
   "source": [
    "if benimString == \"Omer Guven\":\n",
    "    print(\"doğru\")\n",
    "else:\n",
    "    print(\"yanlış\")"
   ]
  },
  {
   "cell_type": "code",
   "execution_count": 37,
   "id": "d21e366b",
   "metadata": {},
   "outputs": [
    {
     "name": "stdout",
     "output_type": "stream",
     "text": [
      "varmış\n"
     ]
    }
   ],
   "source": [
    "if \"uven\" in benimString:\n",
    "    print(\"varmış\")\n",
    "else:\n",
    "    print(\"yokmuş\")"
   ]
  },
  {
   "cell_type": "markdown",
   "id": "958ac0e3",
   "metadata": {},
   "source": [
    "\" in \" içinde var mı yok mu kontrol etmek için kullanılır."
   ]
  },
  {
   "cell_type": "code",
   "execution_count": 38,
   "id": "bfc5dd62",
   "metadata": {},
   "outputs": [
    {
     "name": "stdout",
     "output_type": "stream",
     "text": [
      "yokmuş\n"
     ]
    }
   ],
   "source": [
    "if \"omer\" in benimString:\n",
    "    print(\"varmış\")\n",
    "else:\n",
    "    print(\"yokmuş\")"
   ]
  },
  {
   "cell_type": "code",
   "execution_count": 39,
   "id": "64182df8",
   "metadata": {},
   "outputs": [],
   "source": [
    "benimListem = [10,20,30,100]"
   ]
  },
  {
   "cell_type": "code",
   "execution_count": 40,
   "id": "63d837bc",
   "metadata": {},
   "outputs": [],
   "source": [
    "if 40 in benimListem:\n",
    "    print(\"var\")"
   ]
  },
  {
   "cell_type": "code",
   "execution_count": 41,
   "id": "8d879653",
   "metadata": {},
   "outputs": [
    {
     "name": "stdout",
     "output_type": "stream",
     "text": [
      "var\n"
     ]
    }
   ],
   "source": [
    "if 10 in benimListem:\n",
    "    print(\"var\")"
   ]
  },
  {
   "cell_type": "code",
   "execution_count": 42,
   "id": "3e81bbe0",
   "metadata": {},
   "outputs": [],
   "source": [
    "benimSozluk = {\"muz\": 200,\"elma\": 100,\"armut\": 300}"
   ]
  },
  {
   "cell_type": "code",
   "execution_count": 44,
   "id": "cbd70cad",
   "metadata": {},
   "outputs": [
    {
     "name": "stdout",
     "output_type": "stream",
     "text": [
      "var\n"
     ]
    }
   ],
   "source": [
    "if \"muz\" in benimSozluk.keys():\n",
    "    print(\"var\")"
   ]
  },
  {
   "cell_type": "code",
   "execution_count": 45,
   "id": "be8330b0",
   "metadata": {},
   "outputs": [
    {
     "name": "stdout",
     "output_type": "stream",
     "text": [
      "yok\n"
     ]
    }
   ],
   "source": [
    "if 2200 in benimSozluk.values():\n",
    "    print(\"var\")\n",
    "else:\n",
    "    print(\"yok\")"
   ]
  },
  {
   "cell_type": "code",
   "execution_count": null,
   "id": "378e7e98",
   "metadata": {},
   "outputs": [],
   "source": []
  }
 ],
 "metadata": {
  "kernelspec": {
   "display_name": "Python 3 (ipykernel)",
   "language": "python",
   "name": "python3"
  },
  "language_info": {
   "codemirror_mode": {
    "name": "ipython",
    "version": 3
   },
   "file_extension": ".py",
   "mimetype": "text/x-python",
   "name": "python",
   "nbconvert_exporter": "python",
   "pygments_lexer": "ipython3",
   "version": "3.9.13"
  }
 },
 "nbformat": 4,
 "nbformat_minor": 5
}
